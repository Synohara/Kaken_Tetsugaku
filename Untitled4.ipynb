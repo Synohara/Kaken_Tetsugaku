{
 "cells": [
  {
   "cell_type": "code",
   "execution_count": null,
   "metadata": {
    "collapsed": true
   },
   "outputs": [],
   "source": [
    "%matplotlib inline"
   ]
  },
  {
   "cell_type": "code",
   "execution_count": null,
   "metadata": {
    "collapsed": true
   },
   "outputs": [],
   "source": [
    "import matplotlib.pyplot as plt"
   ]
  },
  {
   "cell_type": "code",
   "execution_count": null,
   "metadata": {
    "collapsed": true
   },
   "outputs": [],
   "source": [
    "Alpha=[99.1212,-2.40799e+42,2.84069e+43,-100.252,99.4152,99.4144,-9.76771e+42,100.128,-1.72399e+43,100.454]\n"
   ]
  },
  {
   "cell_type": "code",
   "execution_count": null,
   "metadata": {
    "collapsed": false
   },
   "outputs": [],
   "source": [
    "plt.bar([i for i in range(10)],Alpha)"
   ]
  },
  {
   "cell_type": "code",
   "execution_count": null,
   "metadata": {
    "collapsed": false
   },
   "outputs": [],
   "source": [
    "import pickle\n",
    "import sys\n",
    "import numpy as np\n",
    "import math\n",
    "import matplotlib.pyplot as plt\n",
    "import seaborn as sns\n",
    "from matplotlib.backends.backend_pdf import PdfPages\n",
    "\n",
    "with open('kaken_tetsugaku/kaken_informatics_2013-2017.pkl', 'rb') as f:\n",
    "    stanmodel = pickle.load(f)\n",
    "    fit_nuts = pickle.load(f)\n",
    "\n",
    "## summary\n",
    "##with open('output/fit-summary.txt', 'w') as f:\n",
    "##    f.write(str(fit_nuts))\n",
    "\n",
    "## traceplot\n",
    "palette = sns.color_palette()\n",
    "ms = fit_nuts.extract(permuted=False, inc_warmup=True)\n",
    "iter_from = fit_nuts.sim['warmup']\n",
    "iter_range = np.arange(iter_from, ms.shape[0])\n",
    "paraname = fit_nuts.sim['fnames_oi']\n",
    "num_pages = math.ceil(len(paraname)/4)\n",
    "\n",
    "with PdfPages('output/fit-traceplot.pdf') as pdf:\n",
    "    for pg in range(num_pages):\n",
    "        plt.figure()\n",
    "        for pos in range(4):\n",
    "            pi = pg*4 + pos\n",
    "            if pi >= len(paraname): break\n",
    "            plt.subplot(4, 2, 2*pos+1)\n",
    "            plt.tight_layout()\n",
    "            [plt.plot(iter_range + 1, ms[iter_range,ci,pi], color=palette[ci]) for ci in range(ms.shape[1])]\n",
    "            plt.title(paraname[pi])\n",
    "            plt.subplot(4, 2, 2*(pos+1))\n",
    "            plt.tight_layout()\n",
    "            [sns.kdeplot(ms[iter_range,ci,pi], color=palette[ci]) for ci in range(ms.shape[1])]\n",
    "            plt.title(paraname[pi])\n",
    "        pdf.savefig()\n",
    "        plt.close()\n"
   ]
  },
  {
   "cell_type": "code",
   "execution_count": null,
   "metadata": {
    "collapsed": false
   },
   "outputs": [],
   "source": [
    "import pandas as pd\n",
    "vb_sample = pd.read_csv(fit_nuts['args']['sample_file'].decode('utf-8'), comment='#')\n",
    "vb_sample = vb_sample.drop([0,1])\n",
    "mu_est = vb_sample.filter(regex='mu\\.\\d+')"
   ]
  },
  {
   "cell_type": "code",
   "execution_count": null,
   "metadata": {
    "collapsed": false
   },
   "outputs": [],
   "source": [
    "fit_nuts['args']['sample_file']"
   ]
  },
  {
   "cell_type": "code",
   "execution_count": null,
   "metadata": {
    "collapsed": true
   },
   "outputs": [],
   "source": [
    "with open('.py/kaken.nii.ac.jp_2017-04-07_14-00-31.pkl', 'rb') as f:\n",
    "    stanmodel = pickle.load(f)\n",
    "    fit_nuts = pickle.load(f)"
   ]
  },
  {
   "cell_type": "code",
   "execution_count": null,
   "metadata": {
    "collapsed": false
   },
   "outputs": [],
   "source": [
    "# setting up our imports\n",
    "\n",
    "from gensim.models import ldaseqmodel\n",
    "from gensim.corpora import Dictionary, bleicorpus\n",
    "import numpy\n",
    "from gensim.matutils import hellinger"
   ]
  },
  {
   "cell_type": "code",
   "execution_count": null,
   "metadata": {
    "collapsed": false
   },
   "outputs": [],
   "source": [
    "# loading our corpus and dictionary\n",
    "try:\n",
    "    dictionary = Dictionary.load('ダウンロード/sample')\n",
    "except FileNotFoundError as e:\n",
    "    raise ValueError(\"SKIP: Please download the Corpus/news_dictionary dataset.\")\n",
    "corpus = bleicorpus.BleiCorpus('ダウンロード/sample')\n",
    "# it's very important that your corpus is saved in order of your time-slices!\n",
    "\n",
    "time_slice = [438, 430, 456]"
   ]
  },
  {
   "cell_type": "code",
   "execution_count": null,
   "metadata": {
    "collapsed": false
   },
   "outputs": [],
   "source": [
    "import os\n",
    " \n",
    "DIR1 = \"ダウンロード/sample/month1/\"\n",
    "DIR2 = \"ダウンロード/sample/month2/\"\n",
    "DIR3 = \"ダウンロード/sample/month3/\"\n",
    "texts = []\n",
    "def load_text(txt):\n",
    "    words = []\n",
    "    with open(txt,'r') as f:\n",
    "        print(txt)\n",
    "        text = f.read().split()\n",
    "        for word in text:\n",
    "            if word not in sw:\n",
    "                words.append(word)\n",
    "        return words\n",
    "def print_files(dir):\n",
    "    for f in os.listdir(dir):\n",
    "        full_name = dir + f\n",
    "        if os.path.isfile(full_name):\n",
    "            txt = load_text(full_name)\n",
    "            texts.append(txt)\n",
    " \n",
    " \n",
    "if __name__ == '__main__':\n",
    "    print_files(DIR1)\n",
    "    print_files(DIR2)\n",
    "    print_files(DIR3)"
   ]
  },
  {
   "cell_type": "code",
   "execution_count": null,
   "metadata": {
    "collapsed": false
   },
   "outputs": [],
   "source": [
    "from gensim import corpora\n",
    "\n",
    "dictionary = corpora.Dictionary(texts)"
   ]
  },
  {
   "cell_type": "code",
   "execution_count": null,
   "metadata": {
    "collapsed": false
   },
   "outputs": [],
   "source": [
    "corpus = [dictionary.doc2bow(text) for text in texts]\n"
   ]
  },
  {
   "cell_type": "code",
   "execution_count": null,
   "metadata": {
    "collapsed": false
   },
   "outputs": [],
   "source": [
    "corpus\n",
    "     \n",
    "    \n",
    "    "
   ]
  },
  {
   "cell_type": "code",
   "execution_count": null,
   "metadata": {
    "collapsed": true
   },
   "outputs": [],
   "source": [
    "time_slice = [438, 430, 456]\n"
   ]
  },
  {
   "cell_type": "code",
   "execution_count": null,
   "metadata": {
    "collapsed": false
   },
   "outputs": [],
   "source": [
    "from gensim.models import ldaseqmodel\n",
    "from gensim.corpora import Dictionary, bleicorpus\n",
    "import numpy\n",
    "from gensim.matutils import hellinger \n",
    "ldaseq = ldaseqmodel.LdaSeqModel(corpus=corpus, id2word=dictionary, time_slice=time_slice, num_topics=5)\n"
   ]
  },
  {
   "cell_type": "code",
   "execution_count": null,
   "metadata": {
    "collapsed": false
   },
   "outputs": [],
   "source": [
    "ldaseq.print_topic_times(topic=4) "
   ]
  },
  {
   "cell_type": "code",
   "execution_count": null,
   "metadata": {
    "collapsed": false
   },
   "outputs": [],
   "source": [
    "for i in ['I', 'We', 'But', 'The', '-', '\"I']:\n",
    "    sw.append(i)"
   ]
  },
  {
   "cell_type": "code",
   "execution_count": null,
   "metadata": {
    "collapsed": false
   },
   "outputs": [],
   "source": [
    "import nltk \n",
    "nltk.download('stopwords')\n",
    "sw = nltk.corpus.stopwords.words('english')\n"
   ]
  },
  {
   "cell_type": "code",
   "execution_count": null,
   "metadata": {
    "collapsed": false
   },
   "outputs": [],
   "source": [
    "import pandas as pd\n",
    "from tqdm import tqdm\n",
    "from MeCab import Tagger\n",
    "\n",
    "kaken = pd.read_csv('kaken_tetsugaku/kaken.nii.ac.jp_tetsugaku.csv')\n",
    "for n,i in tqdm(enumerate(kaken.研究概要.isnull())):\n",
    "    if i == True:\n",
    "        kaken = kaken.drop(n)\n",
    "stop_words = []\n",
    "with open(\"stop_words.txt\") as f:\n",
    "    for line in f.readlines():\n",
    "        line = line.rstrip()\n",
    "        stop_words.append(line)\n",
    "print(stop_words)\n",
    "\n",
    "# 形態素解析\n",
    "# 名詞、動詞、形容詞のみを抽出\n",
    "import MeCab\n",
    "tagger = MeCab.Tagger()\n",
    "texts = []\n",
    "for sentence in tqdm(kaken.研究概要):\n",
    "    words = []\n",
    "    node = tagger.parseToNode(sentence)\n",
    "    while node:\n",
    "        features = node.feature.split(\",\")\n",
    "        if features[0] in [\"名詞\",\"動詞\",\"形容詞\"]:\n",
    "            word = node.surface if features[6] == \"*\" else features[6]\n",
    "            if word not in stop_words:\n",
    "                words.append(word)\n",
    "                node = node.next\n",
    "        node = node.next\n",
    "    texts.append(words)"
   ]
  },
  {
   "cell_type": "code",
   "execution_count": 1,
   "metadata": {
    "collapsed": false
   },
   "outputs": [
    {
     "name": "stderr",
     "output_type": "stream",
     "text": [
      "3244it [00:01, 2486.68it/s]\n",
      " 17%|█▋        | 307/1841 [00:00<00:01, 1519.47it/s]"
     ]
    },
    {
     "name": "stdout",
     "output_type": "stream",
     "text": [
      "['', '', '”', '\"', '’', \"'\", ',', ',', '．', '.', '\\x08、', '\\x08。', '-', '—', '「', '」', '（', '）', '/', '／', '&', '＆', '・', '×', '…', '0', '1', '2', '3', '4', '5', '6', '7', '8', '9', '０', '１', '２', '３', '４', '５', '６', '７', '８', '９', '一', '二', '三', '四', '五', '六', '七', '八', '九', 'i', 'it', 'm', 'no', 'the', '合う', 'ある', 'いい', 'いう', 'いく', 'いま', '今', 'いる', '駅', 'おく', 'かける', '方', 'がた', '感', '口', 'くる', 'くれる', 'ここ', 'こっち', 'こと', 'こなす', 'こむ', 'これ', 'さ', 'ザ', 'ざす', 'さりげ', '氏', 'ジ', 'しまう', 'しょ', 'しれる', 'する', '性', 'せる', 'そこ', 'そのもの', 'それ', 'それら', 'たち', 'ため', '地', '邸', '邸宅', '的', 'でく', 'とおす', 'とき', 'どこ', 'とまる', 'とる', 'ない', 'なか', 'なす', 'なる', 'なん', '似る', 'の', '分', 'ほう', 'み', 'む', 'もつ', '持つ', 'もの', 'ゆく', 'よい', 'よう', 'らい', 'られる', 'れる', '研究', '手法', '示す', '問題', '結果', '用いる', 'システム', '実現', '構築', '評価', '論文', '調査', '成果', '発表', '提案', '行う', '利用', '開発', '可能', 'モデル', '基づく', 'できる', '情報', '抽出', '検討', '(', ')', '実験', '得る', '明らか', '年度', '方法', ')、', 'and', ':']\n"
     ]
    },
    {
     "name": "stderr",
     "output_type": "stream",
     "text": [
      "100%|██████████| 1841/1841 [00:01<00:00, 1059.70it/s]\n"
     ]
    }
   ],
   "source": [
    "# -*- coding:utf-8 -*-\n",
    "\n",
    "import pandas as pd\n",
    "from tqdm import tqdm\n",
    "import sys\n",
    "# コマンドライン引数読み込み\n",
    "# 科研データ読み込み\n",
    "kaken = pd.read_csv(\"kaken_tetsugaku/kaken.nii.ac.jp_tetsugaku.csv\")\n",
    "# トピック数指定\n",
    "topic_number = int(50)\n",
    "# 空データ削除\n",
    "for n,i in tqdm(enumerate(kaken.研究概要.isnull())):\n",
    "    if i == True:\n",
    "        kaken = kaken.drop(n)\n",
    "# ストップワード作成\n",
    "stop_words = []\n",
    "with open(\"stop_words.txt\") as f:\n",
    "    for line in f.readlines():\n",
    "        line = line.rstrip()\n",
    "        stop_words.append(line)\n",
    "print(stop_words)\n",
    "\n",
    "# 形態素解析\n",
    "# 名詞、動詞、形容詞のみを抽出\n",
    "import MeCab\n",
    "tagger = MeCab.Tagger()\n",
    "texts = []\n",
    "for sentence in tqdm(kaken.研究概要):\n",
    "    words = []\n",
    "    node = tagger.parseToNode(sentence)\n",
    "    while node:\n",
    "        features = node.feature.split(\",\")\n",
    "        if features[0] in [\"名詞\",\"動詞\",\"形容詞\"]:\n",
    "            word = node.surface if features[6] == \"*\" else features[6]\n",
    "            if word not in stop_words:\n",
    "                words.append(word)\n",
    "                node = node.next\n",
    "        node = node.next\n",
    "    texts.append(words)\n",
    "# gensimをもちいて辞書とコーパスを作成\n",
    "from gensim import corpora,models\n",
    "dictionary = corpora.Dictionary(texts)\n",
    "dictionary.save('kaken.dict') \n",
    "corpus = [dictionary.doc2bow(text) for text in texts]\n",
    "\n",
    "#corpus = corpora.MmCorpus('../kaken.mm')\n",
    "#corpora.MmCorpus.serialize('../../kaken.mm', corpus) \n",
    "tfidf = models.TfidfModel(corpus)\n",
    "corpus_tfidf = tfidf[corpus]\n",
    "from gensim.models import ldamodel\n",
    "#model = ldamodel.LdaModel(corpus, id2word=dictionary, num_topics=topic_number)\n",
    "#for topic in model.show_topics(-1):\n",
    "#    print(topic)\n",
    "K = 10\n",
    "M = len(kaken)\n",
    "V = len(dictionary)\n",
    "N = sum(len(i) for i in texts)"
   ]
  },
  {
   "cell_type": "code",
   "execution_count": 4,
   "metadata": {
    "collapsed": false
   },
   "outputs": [],
   "source": [
    "duration = []\n",
    "time_point = []\n",
    "cnt = 0\n",
    "for i,time in enumerate(kaken['研究期間 (年度)']):\n",
    "    duration.append(time[0:4])\n",
    "    if int(time[0:4]) == 1990:\n",
    "        time_point.append(1)\n",
    "    elif int(time[0:4]) == 1991:\n",
    "        time_point.append(2)\n",
    "    elif int(time[0:4]) == 1992:\n",
    "        time_point.append(3)\n",
    "    elif int(time[0:4]) == 1993:\n",
    "        time_point.append(4)\n",
    "    elif int(time[0:4]) == 1994:\n",
    "        time_point.append(5)\n",
    "    elif int(time[0:4]) == 1995:\n",
    "        time_point.append(6)\n",
    "    "
   ]
  },
  {
   "cell_type": "code",
   "execution_count": 22,
   "metadata": {
    "collapsed": false
   },
   "outputs": [],
   "source": [
    "time = []\n",
    "for year in kaken['研究期間 (年度)']:\n",
    "    time.append(int(year[0:4]))"
   ]
  },
  {
   "cell_type": "code",
   "execution_count": 61,
   "metadata": {
    "collapsed": false
   },
   "outputs": [
    {
     "name": "stderr",
     "output_type": "stream",
     "text": [
      "/home/makoto/.pyenv/versions/anaconda3-4.1.1/lib/python3.5/site-packages/gensim/models/ldaseqmodel.py:217: RuntimeWarning: divide by zero encountered in double_scalars\n",
      "  convergence = np.fabs((bound - old_bound) / old_bound)\n"
     ]
    }
   ],
   "source": [
    "from gensim.models import ldaseqmodel\n",
    "from gensim.corpora import Dictionary, bleicorpus\n",
    "import numpy\n",
    "from gensim.matutils import hellinger \n",
    "ldaseq = ldaseqmodel.LdaSeqModel(corpus=corpus, id2word=dictionary, time_slice=time_slice, num_topics=10)\n"
   ]
  },
  {
   "cell_type": "code",
   "execution_count": 108,
   "metadata": {
    "collapsed": false
   },
   "outputs": [],
   "source": [
    "time_slice = []\n",
    "for i,t in enumerate(time):\n",
    "    try:\n",
    "        if t != time[i-1]:\n",
    "            time_slice.append(i)\n",
    "    except:\n",
    "        pass"
   ]
  },
  {
   "cell_type": "code",
   "execution_count": 109,
   "metadata": {
    "collapsed": false
   },
   "outputs": [],
   "source": [
    "time_slice.pop(0)\n",
    "for i,t in enumerate(time_slice):\n",
    "    if i == 0:\n",
    "        pass\n",
    "    else:\n",
    "        time_slice[i-1] = time_slice[i]-time_slice[i-1]"
   ]
  },
  {
   "cell_type": "code",
   "execution_count": 118,
   "metadata": {
    "collapsed": false
   },
   "outputs": [
    {
     "data": {
      "text/plain": [
       "[2, 24, 186, 211, 209, 188, 240, 228, 200, 176, 177]"
      ]
     },
     "execution_count": 118,
     "metadata": {},
     "output_type": "execute_result"
    }
   ],
   "source": [
    "time_slice"
   ]
  },
  {
   "cell_type": "code",
   "execution_count": 84,
   "metadata": {
    "collapsed": false
   },
   "outputs": [
    {
     "name": "stdout",
     "output_type": "stream",
     "text": [
      "['機関', '言える', '踏まえる', '従来', '理論', '議論', '倫理', '基盤', '究明', '作業', '試みる', '展開', '課題', '市民', '実践', 'ケア', 'グローバル', '中核', '権利', '際', '学校', '教育', '抱える', '欧米', '<', 'アジア', 'がち', '他者', '21', '始まる', '据える', '土俵', '責任', 'ニーズ', '機軸', '公民', '義務', '資質', '指針', 'カリキュラム', 'ねらう', '拡充', 'シティズンシップ']\n"
     ]
    }
   ],
   "source": [
    "words = [dictionary[word_id] for word_id, count in corpus[1000]]\n",
    "print (words)"
   ]
  },
  {
   "cell_type": "code",
   "execution_count": 85,
   "metadata": {
    "collapsed": false
   },
   "outputs": [
    {
     "name": "stdout",
     "output_type": "stream",
     "text": [
      "[  1.88323917e-04   5.01657950e-01   1.88323917e-04   1.88323917e-04\n",
      "   1.88323917e-04   1.88323917e-04   7.45413685e-02   2.81547847e-01\n",
      "   1.41122891e-01   1.88323917e-04]\n"
     ]
    },
    {
     "data": {
      "text/plain": [
       "[<matplotlib.lines.Line2D at 0x7f675b480860>]"
      ]
     },
     "execution_count": 85,
     "metadata": {},
     "output_type": "execute_result"
    },
    {
     "data": {
      "image/png": "[encoded data removed]",
      "text/plain": [
       "<matplotlib.figure.Figure at 0x7f6760dda5c0>"
      ]
     },
     "metadata": {},
     "output_type": "display_data"
    }
   ],
   "source": [
    "%matplotlib inline\n",
    "import matplotlib.pyplot as plt\n",
    "doc = ldaseq.doc_topics(1000) # check the 558th document in the corpuses topic distribution\n",
    "print (doc)\n",
    "plt.plot(doc)"
   ]
  },
  {
   "cell_type": "code",
   "execution_count": 87,
   "metadata": {
    "collapsed": false
   },
   "outputs": [
    {
     "data": {
      "text/plain": [
       "[[('資料', 0.017999999999999999),\n",
       "  ('作成', 0.010999999999999999),\n",
       "  ('文献', 0.01),\n",
       "  ('収集', 0.0089999999999999993),\n",
       "  ('仏教', 0.0080000000000000002),\n",
       "  ('写本', 0.0080000000000000002),\n",
       "  ('月', 0.0070000000000000001),\n",
       "  ('基礎', 0.0060000000000000001),\n",
       "  ('平成', 0.0050000000000000001),\n",
       "  ('報告', 0.0050000000000000001),\n",
       "  ('データベース', 0.0050000000000000001),\n",
       "  ('図書館', 0.0050000000000000001),\n",
       "  ('所蔵', 0.0050000000000000001),\n",
       "  ('インド', 0.0050000000000000001),\n",
       "  ('出版', 0.0050000000000000001),\n",
       "  ('関連', 0.0050000000000000001),\n",
       "  ('刊行', 0.0050000000000000001),\n",
       "  ('公開', 0.0050000000000000001),\n",
       "  ('整理', 0.0040000000000000001),\n",
       "  ('一部', 0.0040000000000000001)],\n",
       " [('資料', 0.017999999999999999),\n",
       "  ('作成', 0.010999999999999999),\n",
       "  ('文献', 0.01),\n",
       "  ('収集', 0.0089999999999999993),\n",
       "  ('仏教', 0.0080000000000000002),\n",
       "  ('写本', 0.0080000000000000002),\n",
       "  ('月', 0.0070000000000000001),\n",
       "  ('基礎', 0.0060000000000000001),\n",
       "  ('平成', 0.0050000000000000001),\n",
       "  ('データベース', 0.0050000000000000001),\n",
       "  ('報告', 0.0050000000000000001),\n",
       "  ('図書館', 0.0050000000000000001),\n",
       "  ('所蔵', 0.0050000000000000001),\n",
       "  ('インド', 0.0050000000000000001),\n",
       "  ('出版', 0.0050000000000000001),\n",
       "  ('関連', 0.0050000000000000001),\n",
       "  ('刊行', 0.0050000000000000001),\n",
       "  ('公開', 0.0050000000000000001),\n",
       "  ('整理', 0.0040000000000000001),\n",
       "  ('一部', 0.0040000000000000001)],\n",
       " [('資料', 0.017999999999999999),\n",
       "  ('作成', 0.010999999999999999),\n",
       "  ('文献', 0.01),\n",
       "  ('収集', 0.0089999999999999993),\n",
       "  ('仏教', 0.0080000000000000002),\n",
       "  ('写本', 0.0080000000000000002),\n",
       "  ('月', 0.0070000000000000001),\n",
       "  ('基礎', 0.0060000000000000001),\n",
       "  ('平成', 0.0050000000000000001),\n",
       "  ('データベース', 0.0050000000000000001),\n",
       "  ('報告', 0.0050000000000000001),\n",
       "  ('図書館', 0.0050000000000000001),\n",
       "  ('所蔵', 0.0050000000000000001),\n",
       "  ('インド', 0.0050000000000000001),\n",
       "  ('出版', 0.0050000000000000001),\n",
       "  ('関連', 0.0050000000000000001),\n",
       "  ('刊行', 0.0050000000000000001),\n",
       "  ('公開', 0.0050000000000000001),\n",
       "  ('一部', 0.0040000000000000001),\n",
       "  ('整理', 0.0040000000000000001)],\n",
       " [('資料', 0.017999999999999999),\n",
       "  ('作成', 0.010999999999999999),\n",
       "  ('文献', 0.01),\n",
       "  ('収集', 0.01),\n",
       "  ('仏教', 0.0080000000000000002),\n",
       "  ('写本', 0.0080000000000000002),\n",
       "  ('月', 0.0070000000000000001),\n",
       "  ('基礎', 0.0060000000000000001),\n",
       "  ('平成', 0.0060000000000000001),\n",
       "  ('データベース', 0.0050000000000000001),\n",
       "  ('報告', 0.0050000000000000001),\n",
       "  ('図書館', 0.0050000000000000001),\n",
       "  ('所蔵', 0.0050000000000000001),\n",
       "  ('出版', 0.0050000000000000001),\n",
       "  ('関連', 0.0050000000000000001),\n",
       "  ('インド', 0.0050000000000000001),\n",
       "  ('刊行', 0.0050000000000000001),\n",
       "  ('公開', 0.0040000000000000001),\n",
       "  ('整理', 0.0040000000000000001),\n",
       "  ('一部', 0.0040000000000000001)],\n",
       " [('資料', 0.017999999999999999),\n",
       "  ('作成', 0.01),\n",
       "  ('収集', 0.01),\n",
       "  ('文献', 0.0089999999999999993),\n",
       "  ('仏教', 0.0089999999999999993),\n",
       "  ('写本', 0.0070000000000000001),\n",
       "  ('月', 0.0070000000000000001),\n",
       "  ('基礎', 0.0060000000000000001),\n",
       "  ('平成', 0.0060000000000000001),\n",
       "  ('データベース', 0.0050000000000000001),\n",
       "  ('図書館', 0.0050000000000000001),\n",
       "  ('報告', 0.0050000000000000001),\n",
       "  ('所蔵', 0.0050000000000000001),\n",
       "  ('出版', 0.0050000000000000001),\n",
       "  ('関連', 0.0050000000000000001),\n",
       "  ('インド', 0.0050000000000000001),\n",
       "  ('刊行', 0.0040000000000000001),\n",
       "  ('公開', 0.0040000000000000001),\n",
       "  ('整理', 0.0040000000000000001),\n",
       "  ('一部', 0.0040000000000000001)],\n",
       " [('資料', 0.017999999999999999),\n",
       "  ('作成', 0.01),\n",
       "  ('収集', 0.01),\n",
       "  ('文献', 0.0089999999999999993),\n",
       "  ('仏教', 0.0080000000000000002),\n",
       "  ('月', 0.0070000000000000001),\n",
       "  ('写本', 0.0070000000000000001),\n",
       "  ('基礎', 0.0060000000000000001),\n",
       "  ('平成', 0.0060000000000000001),\n",
       "  ('図書館', 0.0050000000000000001),\n",
       "  ('報告', 0.0050000000000000001),\n",
       "  ('データベース', 0.0050000000000000001),\n",
       "  ('所蔵', 0.0050000000000000001),\n",
       "  ('出版', 0.0050000000000000001),\n",
       "  ('関連', 0.0050000000000000001),\n",
       "  ('公開', 0.0040000000000000001),\n",
       "  ('インド', 0.0040000000000000001),\n",
       "  ('刊行', 0.0040000000000000001),\n",
       "  ('整理', 0.0040000000000000001),\n",
       "  ('一部', 0.0040000000000000001)],\n",
       " [('資料', 0.017000000000000001),\n",
       "  ('作成', 0.01),\n",
       "  ('収集', 0.0089999999999999993),\n",
       "  ('文献', 0.0080000000000000002),\n",
       "  ('仏教', 0.0080000000000000002),\n",
       "  ('月', 0.0070000000000000001),\n",
       "  ('写本', 0.0070000000000000001),\n",
       "  ('平成', 0.0060000000000000001),\n",
       "  ('図書館', 0.0060000000000000001),\n",
       "  ('基礎', 0.0060000000000000001),\n",
       "  ('報告', 0.0050000000000000001),\n",
       "  ('データベース', 0.0050000000000000001),\n",
       "  ('所蔵', 0.0050000000000000001),\n",
       "  ('関連', 0.0050000000000000001),\n",
       "  ('出版', 0.0050000000000000001),\n",
       "  ('年', 0.0040000000000000001),\n",
       "  ('公開', 0.0040000000000000001),\n",
       "  ('刊行', 0.0040000000000000001),\n",
       "  ('整理', 0.0040000000000000001),\n",
       "  ('インド', 0.0040000000000000001)],\n",
       " [('資料', 0.017000000000000001),\n",
       "  ('作成', 0.01),\n",
       "  ('収集', 0.0089999999999999993),\n",
       "  ('文献', 0.0080000000000000002),\n",
       "  ('仏教', 0.0080000000000000002),\n",
       "  ('月', 0.0070000000000000001),\n",
       "  ('写本', 0.0070000000000000001),\n",
       "  ('平成', 0.0060000000000000001),\n",
       "  ('図書館', 0.0060000000000000001),\n",
       "  ('基礎', 0.0060000000000000001),\n",
       "  ('報告', 0.0050000000000000001),\n",
       "  ('データベース', 0.0050000000000000001),\n",
       "  ('所蔵', 0.0050000000000000001),\n",
       "  ('関連', 0.0050000000000000001),\n",
       "  ('出版', 0.0050000000000000001),\n",
       "  ('年', 0.0040000000000000001),\n",
       "  ('公開', 0.0040000000000000001),\n",
       "  ('刊行', 0.0040000000000000001),\n",
       "  ('整理', 0.0040000000000000001),\n",
       "  ('インド', 0.0040000000000000001)],\n",
       " [('資料', 0.017000000000000001),\n",
       "  ('作成', 0.01),\n",
       "  ('収集', 0.0089999999999999993),\n",
       "  ('文献', 0.0080000000000000002),\n",
       "  ('仏教', 0.0080000000000000002),\n",
       "  ('月', 0.0070000000000000001),\n",
       "  ('写本', 0.0070000000000000001),\n",
       "  ('平成', 0.0060000000000000001),\n",
       "  ('図書館', 0.0060000000000000001),\n",
       "  ('基礎', 0.0060000000000000001),\n",
       "  ('報告', 0.0050000000000000001),\n",
       "  ('データベース', 0.0050000000000000001),\n",
       "  ('所蔵', 0.0050000000000000001),\n",
       "  ('関連', 0.0050000000000000001),\n",
       "  ('出版', 0.0050000000000000001),\n",
       "  ('年', 0.0040000000000000001),\n",
       "  ('公開', 0.0040000000000000001),\n",
       "  ('刊行', 0.0040000000000000001),\n",
       "  ('整理', 0.0040000000000000001),\n",
       "  ('インド', 0.0040000000000000001)],\n",
       " [('資料', 0.017000000000000001),\n",
       "  ('作成', 0.01),\n",
       "  ('収集', 0.0089999999999999993),\n",
       "  ('文献', 0.0080000000000000002),\n",
       "  ('仏教', 0.0080000000000000002),\n",
       "  ('月', 0.0070000000000000001),\n",
       "  ('写本', 0.0070000000000000001),\n",
       "  ('平成', 0.0060000000000000001),\n",
       "  ('図書館', 0.0060000000000000001),\n",
       "  ('基礎', 0.0060000000000000001),\n",
       "  ('報告', 0.0050000000000000001),\n",
       "  ('データベース', 0.0050000000000000001),\n",
       "  ('所蔵', 0.0050000000000000001),\n",
       "  ('関連', 0.0050000000000000001),\n",
       "  ('出版', 0.0050000000000000001),\n",
       "  ('年', 0.0040000000000000001),\n",
       "  ('公開', 0.0040000000000000001),\n",
       "  ('刊行', 0.0040000000000000001),\n",
       "  ('整理', 0.0040000000000000001),\n",
       "  ('インド', 0.0040000000000000001)]]"
      ]
     },
     "execution_count": 87,
     "metadata": {},
     "output_type": "execute_result"
    }
   ],
   "source": [
    "ldaseq.print_topic_times(7)"
   ]
  },
  {
   "cell_type": "code",
   "execution_count": 127,
   "metadata": {
    "collapsed": false
   },
   "outputs": [],
   "source": [
    "\n",
    "from gensim.models.wrappers.dtmmodel import DtmModel\n",
    "from gensim.corpora import Dictionary, bleicorpus\n",
    "import pyLDAvis\n",
    "\n",
    "dtm_path = \"/home/makoto/dtm/dtm/dtm\"\n",
    "dtm_model = DtmModel(dtm_path, corpus, time_slice, num_topics=10, id2word=dictionary, initialize_lda=True)\n",
    "dtm_model.save('dtm_tetsugaku')\n",
    "\n"
   ]
  },
  {
   "cell_type": "code",
   "execution_count": 128,
   "metadata": {
    "collapsed": false
   },
   "outputs": [
    {
     "data": {
      "text/html": [
       "\n",
       "<link rel=\"stylesheet\" type=\"text/css\" href=\"https://cdn.rawgit.com/bmabey/pyLDAvis/files/ldavis.v1.0.0.css\">\n",
       "\n",
       "\n",
       "<div id=\"ldavis_el11603140081825840848407605474\"></div>\n",
       "<script type=\"text/javascript\">\n",
       "\n",
       "var ldavis_el11603140081825840848407605474_data = {\"mdsDat\": {\"cluster\": [1, 1, 1, 1, 1, 1, 1, 1, 1, 1], \"topics\": [1, 2, 3, 4, 5, 6, 7, 8, 9, 10], \"y\": [0.004381568169145067, -0.04393427547509123, 0.0029512934488233763, -0.08093148035624671, 0.0593028691280334, 0.1785305265506589, 0.04396964565128667, -0.23888427037120938, 0.0468843401692012, 0.027729783085398696], \"x\": [0.11740511552944403, 0.10601230750821505, 0.13389387150753623, 0.07194743856748892, 0.053922945789982024, 0.02106723929381593, -0.08435499054008305, -0.0783627805220642, -0.15286778377712712, -0.188663363357208], \"Freq\": [26.506199186918316, 21.348244043284083, 18.86321975085996, 11.805134643152613, 7.516764881073135, 4.05431121457091, 2.7980521900164113, 2.704563157306095, 2.269787502387134, 2.1337234304313424]}, \"R\": 30, \"plot.opts\": {\"ylab\": \"PC2\", \"xlab\": \"PC1\"}, \"tinfo\": {\"loglift\": [30.0, 29.0, 28.0, 27.0, 26.0, 25.0, 24.0, 23.0, 22.0, 21.0, 20.0, 19.0, 18.0, 17.0, 16.0, 15.0, 14.0, 13.0, 12.0, 11.0, 10.0, 9.0, 8.0, 7.0, 6.0, 5.0, 4.0, 3.0, 2.0, 1.0, 1.3255, 1.323, 1.3221, 1.3154, 1.3151, 1.3117, 1.3098, 1.3085, 1.3069, 1.3069, 1.3053, 1.3039, 1.3034, 1.3023, 1.2989, 1.2983, 1.2977, 1.2969, 1.2958, 1.2945, 1.2934, 1.2916, 1.2915, 1.2891, 1.2891, 1.2853, 1.2853, 1.2848, 1.2841, 1.2839, 1.267, 1.2738, 1.2758, 1.2259, 1.2458, 1.2469, 1.1785, 1.1748, 1.0077, 1.1331, 0.9771, 1.0511, 1.0451, 0.94, 0.9538, 0.989, 0.9621, 0.722, 0.8111, 0.9063, 0.715, 0.5551, 0.9447, 0.2891, 0.3929, 0.2441, 0.0297, -0.3618, 1.5386, 1.5337, 1.5308, 1.5246, 1.5194, 1.5185, 1.5161, 1.5135, 1.5132, 1.5105, 1.5105, 1.5083, 1.5075, 1.5003, 1.4981, 1.4964, 1.4957, 1.4954, 1.495, 1.4949, 1.4943, 1.4942, 1.4941, 1.494, 1.4921, 1.4913, 1.4892, 1.487, 1.4851, 1.484, 1.4833, 1.4696, 1.4678, 1.4525, 1.4121, 1.4132, 1.4286, 1.3761, 1.4306, 1.3191, 1.3647, 1.2973, 1.1338, 1.1189, 1.1982, 1.3257, 1.238, 0.9307, 1.0595, 0.371, 1.0492, 0.9219, 0.7228, 1.0587, 0.7936, 0.3859, 0.5969, 0.134, 1.6481, 1.6411, 1.6365, 1.6363, 1.6318, 1.6313, 1.6202, 1.6198, 1.6187, 1.6182, 1.6143, 1.6093, 1.5999, 1.5982, 1.5969, 1.5958, 1.5941, 1.5938, 1.5924, 1.5892, 1.5877, 1.5855, 1.5806, 1.5787, 1.5782, 1.5778, 1.5764, 1.5718, 1.5702, 1.5677, 1.5496, 1.523, 1.5346, 1.5229, 1.4075, 1.5195, 1.4774, 1.3879, 1.3071, 1.4245, 1.3936, 1.2348, 1.4917, 0.993, 0.9864, 1.3781, 1.0152, 1.209, 1.0234, 1.1416, 1.18, 1.176, 1.0168, 1.0929, 0.8409, 0.7815, 0.5407, 0.9385, 1.0445, 0.3651, 0.5899, 0.6559, 0.4808, 0.5866, 0.6053, 0.4424, 0.1312, 0.6871, 0.8122, 0.5739, 2.1239, 2.1073, 2.1045, 2.1032, 2.0975, 2.0908, 2.088, 2.0821, 2.0797, 2.0767, 2.0544, 2.0519, 2.0479, 2.0463, 2.046, 2.0453, 2.045, 2.0443, 2.0366, 2.033, 2.0319, 2.0318, 2.0295, 2.0284, 2.027, 2.0269, 2.0251, 2.0229, 2.0192, 2.0166, 1.9881, 1.9203, 1.9138, 1.8842, 1.8058, 1.828, 1.9561, 1.7941, 1.36, 1.9296, 1.538, 1.9071, 1.7995, 1.3272, 1.4259, 0.9283, 1.4528, 1.4456, 0.739, 0.9084, 1.3354, 1.3561, 0.7954, 0.107, 0.6649, 0.859, 0.61, 1.0776, 0.4432, 0.3039, 0.9895, 0.8109, -0.328, 0.4253, -0.2259, 2.554, 2.553, 2.5526, 2.5523, 2.5508, 2.5458, 2.5393, 2.5297, 2.5271, 2.5269, 2.514, 2.5103, 2.5094, 2.5057, 2.4974, 2.4937, 2.4777, 2.4765, 2.4761, 2.4729, 2.4728, 2.4712, 2.4703, 2.4673, 2.4633, 2.4626, 2.4614, 2.4596, 2.4584, 2.4572, 2.4502, 2.4031, 2.4007, 2.3448, 2.3391, 2.3424, 2.1611, 2.0237, 2.1729, 2.2097, 2.1196, 2.161, 1.712, 1.4677, 2.2852, 1.4381, 1.0799, 1.7765, 1.5103, 0.5747, 1.6338, 0.9085, 0.9589, 0.6759, 0.1849, 0.2441, 0.7543, 3.1562, 3.1468, 3.1441, 3.1231, 3.1203, 3.1142, 3.1074, 3.093, 3.089, 3.0811, 3.0794, 3.0765, 3.0755, 3.0736, 3.0694, 3.0685, 3.0593, 3.0548, 3.0528, 3.0449, 3.0442, 3.0361, 3.0258, 3.0197, 3.0078, 3.0059, 3.0045, 3.004, 2.9986, 2.9978, 2.9893, 2.9722, 2.8614, 2.837, 2.8826, 2.9085, 2.8436, 2.8878, 2.5203, 2.7902, 2.4719, 1.8607, 2.1772, 2.5024, 2.5995, 1.6511, 1.6743, 2.4629, 1.1562, 1.2567, 2.5448, 1.0507, 0.7301, 1.779, 0.844, 1.3813, 0.3101, 0.3904, 0.7081, 0.015, 3.5493, 3.5196, 3.5103, 3.5084, 3.5049, 3.5022, 3.4775, 3.4568, 3.4497, 3.4471, 3.4416, 3.4364, 3.4303, 3.4294, 3.4184, 3.4181, 3.4151, 3.4113, 3.4092, 3.4083, 3.4015, 3.3881, 3.386, 3.3745, 3.3684, 3.3656, 3.3655, 3.3526, 3.3482, 3.348, 3.3317, 3.1782, 3.0363, 3.2026, 3.0931, 2.2268, 2.8546, 2.774, 2.638, 2.6781, 2.1794, 1.3307, 1.0204, 2.3437, 0.4035, 1.3396, 1.782, 1.7607, 1.6756, 0.5129, 1.3876, 3.5855, 3.5573, 3.5398, 3.5374, 3.5314, 3.5176, 3.5159, 3.5145, 3.5061, 3.4928, 3.4899, 3.4892, 3.4814, 3.4772, 3.4746, 3.474, 3.4704, 3.4587, 3.4576, 3.4525, 3.4515, 3.4357, 3.4312, 3.4301, 3.4246, 3.4236, 3.4167, 3.412, 3.4112, 3.4108, 3.3952, 3.1787, 3.2464, 3.2282, 3.0128, 3.2542, 2.0469, 1.8284, 2.6319, 3.2377, 2.7203, 2.5688, 1.5055, 1.1972, 1.2258, 0.7597, 1.6509, 2.4781, 1.1193, 1.5011, 1.0955, 0.7613, 0.6214, 3.7596, 3.7423, 3.7211, 3.7152, 3.7042, 3.7004, 3.6801, 3.6773, 3.663, 3.6581, 3.6511, 3.6509, 3.6393, 3.6374, 3.6253, 3.625, 3.6239, 3.606, 3.6049, 3.6038, 3.6036, 3.6011, 3.5927, 3.5864, 3.585, 3.5804, 3.5796, 3.5716, 3.5594, 3.5589, 3.5509, 3.4525, 3.2136, 3.4654, 3.4472, 3.1107, 2.8548, 3.2017, 2.1267, 1.0834, 2.4506, 1.4559, 2.0655, 1.6726, 2.0263, 0.7103, 0.0539, 3.8027, 3.7776, 3.7371, 3.7061, 3.6901, 3.6877, 3.6806, 3.6681, 3.6677, 3.6641, 3.6614, 3.6553, 3.6471, 3.6411, 3.6357, 3.6333, 3.619, 3.6189, 3.6178, 3.6149, 3.6149, 3.606, 3.6048, 3.603, 3.5953, 3.5913, 3.5898, 3.5892, 3.569, 3.5632, 3.5235, 3.3941, 3.2316, 3.4027, 3.2696, 3.3103, 3.0857, 3.37, 2.8651, 3.3989, 3.1143, 3.3444, 3.3302, 2.482, 1.9375, 2.8834, 2.9315, 0.9454, 1.9573, 2.4581, 1.482, 2.6381, 2.9262, 1.9772, 0.7214, 0.5527, 1.7105, 1.3193], \"Term\": [\"\\u601d\\u60f3\", \"\\u54f2\\u5b66\", \"\\u5b97\\u6559\", \"\\u4e2d\\u56fd\", \"\\u82b8\\u8853\", \"\\u4f5c\\u54c1\", \"\\u795e\", \"\\u4ecf\\u6559\", \"\\u5b58\\u5728\", \"\\u65e5\\u672c\", \"\\u8ad6\", \"\\u793e\\u4f1a\", \"\\u6b74\\u53f2\", \"\\u6708\", \"\\u7d75\\u753b\", \"\\u502b\\u7406\", \"\\u30a4\\u30f3\\u30c9\", \"\\u89e3\\u660e\", \"\\u8003\\u5bdf\", \"\\u8cc7\\u6599\", \"\\u6982\\u5ff5\", \"\\u6587\\u5316\", \"\\u4f5c\\u6210\", \"\\u5dfb\", \"\\u56f3\\u50cf\", \"\\u8fd1\\u4ee3\", \"\\u4eba\\u9593\", \"\\u5831\\u544a\", \"\\u610f\\u5473\", \"\\u50cf\", \"\\u54f2\\u5b66\", \"\\u502b\\u7406\", \"\\u4eba\\u9593\", \"\\u751f\\u547d\", \"\\u30ab\\u30f3\\u30c8\", \"\\u9053\\u5fb3\", \"\\u884c\\u70ba\", \"\\u77e5\\u899a\", \"\\u30d7\\u30e9\\u30c8\\u30f3\", \"\\u4ed6\\u8005\", \"\\u4e3b\\u5f35\", \"\\u611f\\u60c5\", \"\\u30a2\\u30ea\\u30b9\\u30c8\\u30c6\\u30ec\\u30b9\", \"\\u5fdc\\u7528\", \"\\u5f62\\u800c\\u4e0a\\u5b66\", \"\\u8a8d\\u77e5\", \"\\u533b\\u7642\", \"\\u3046\\u308b\", \"\\u5fc3\", \"\\u7406\\u6027\", \"\\u5fc3\\u7406\", \"\\u30b1\\u30a2\", \"\\u5408\\u7406\", \"\\u611f\\u899a\", \"\\u30d8\\u30fc\\u30b2\\u30eb\", \"\\u30b3\\u30df\\u30e5\\u30cb\\u30b1\\u30fc\\u30b7\\u30e7\\u30f3\", \"\\u9b42\", \"\\u6839\\u62e0\", \"\\u30cf\\u30a4\\u30c7\\u30ac\\u30fc\", \"\\u5b9f\\u4f53\", \"\\u81ea\\u7136\", \"\\u8eab\\u4f53\", \"\\u601d\\u8003\", \"\\u6982\\u5ff5\", \"\\u8a00\\u8a9e\", \"\\u81ea\\u5df1\", \"\\u7406\\u8ad6\", \"\\u8ad6\\u7406\", \"\\u8ad6\", \"\\u73fe\\u8c61\", \"\\u5b66\", \"\\u8b70\\u8ad6\", \"\\u6279\\u5224\", \"\\u610f\\u5473\", \"\\u79d1\\u5b66\", \"\\u5b9f\\u8df5\", \"\\u8a8d\\u8b58\", \"\\u73fe\\u4ee3\", \"\\u7406\\u89e3\", \"\\u89b3\\u70b9\", \"\\u5b58\\u5728\", \"\\u89e3\\u660e\", \"\\u89e3\\u91c8\", \"\\u5206\\u6790\", \"\\u793e\\u4f1a\", \"\\u95a2\\u4fc2\", \"\\u8003\\u5bdf\", \"\\u601d\\u60f3\", \"\\u6708\", \"\\u958b\\u50ac\", \"\\u56de\", \"\\u56f3\\u66f8\\u9928\", \"\\u30b7\\u30f3\\u30dd\\u30b8\\u30a6\\u30e0\", \"\\u56fd\\u5185\", \"\\u5c55\\u89a7\", \"\\u96d1\\u8a8c\", \"\\u53e3\\u982d\", \"\\u30ed\\u30b7\\u30a2\", \"\\u30d1\\u30ea\", \"\\u8b1b\\u6f14\", \"\\u7de8\\u96c6\", \"\\u4ef6\", \"\\u6a5f\\u95a2\", \"\\u5317\\u4eac\", \"\\u5354\\u529b\", \"\\u610f\\u898b\", \"2005\", \"\\u79d1\", \"\\u9928\", \"\\u5b66\\u4f1a\", \"\\u6700\\u65b0\", \"\\u82f1\\u6587\", \"\\u5358\", \"\\u697d\\u5668\", \"\\u5927\\u5b66\", \"\\u6559\\u6388\", \"\\u767a\\u884c\", \"\\u520a\\u884c\", \"\\u63b2\\u8f09\", \"\\u4f1a\", \"\\u516c\\u958b\", \"\\u56fd\\u969b\", \"\\u51fa\\u7248\", \"\\u65e5\", \"\\u7f8e\\u8853\\u9928\", \"\\u5831\\u544a\", \"\\u6d77\\u5916\", \"\\u5e74\", \"\\u4e88\\u5b9a\", \"\\u5e73\\u6210\", \"\\u8cc7\\u6599\", \"\\u8005\", \"\\u53ce\\u96c6\", \"\\u5206\\u62c5\", \"\\u5e74\\u9593\", \"\\u4f5c\\u6210\", \"\\u5b9f\\u65bd\", \"\\u65e5\\u672c\", \"\\u4eca\\u5f8c\", \"\\u4ee3\\u8868\", \"\\u7f8e\\u8853\", \"\\u4e00\\u90e8\", \"\\u6d3b\\u52d5\", \"\\u6587\\u732e\", \"\\u8ab2\\u984c\", \"\\u4e2d\\u5fc3\", \"\\u30e6\\u30c0\\u30e4\", \"\\u6c11\\u65cf\", \"\\u897f\\u6b27\", \"\\u5b97\\u6559\", \"\\u56fd\\u6c11\", \"\\u30ad\\u30ea\\u30b9\\u30c8\\u6559\", \"\\u8056\\u66f8\", \"\\u30ca\\u30b7\\u30e7\\u30ca\\u30ea\\u30ba\\u30e0\", \"\\u6587\\u660e\", \"\\u5553\\u8499\", \"\\u30b0\\u30ed\\u30fc\\u30d0\\u30eb\", \"\\u690d\\u6c11\", \"\\u30e2\\u30c0\\u30cb\\u30ba\\u30e0\", \"\\u5171\\u751f\", \"\\u4e16\\u4fd7\", \"\\u518d\\u8003\", \"\\u5e1d\\u56fd\", \"\\u795e\\u9053\", \"\\u6539\\u9769\", \"\\u4fee\\u9053\", \"\\u970a\", \"\\u6559\\u56e3\", \"\\u85dd\", \"\\u8af8\\u76f8\", \"\\u30b8\\u30a7\\u30f3\\u30c0\\u30fc\", \"\\u30a2\\u30a4\\u30c7\\u30f3\\u30c6\\u30a3\\u30c6\\u30a3\", \"\\u30ad\\u30ea\\u30b9\\u30c8\", \"\\u672c\\u571f\", \"\\u4fc3\\u3059\", \"\\u8aad\\u307f\\u89e3\\u304f\", \"\\u671d\\u9bae\", \"\\u56fd\\u5bb6\", \"\\u601d\\u60f3\\u5bb6\", \"\\u8a00\\u8aac\", \"\\u8fd1\\u4ee3\", \"\\u8a18\\u61b6\", \"\\u30a4\\u30b9\\u30e9\\u30fc\\u30e0\", \"\\u653f\\u6cbb\", \"\\u6587\\u5316\", \"\\u30e8\\u30fc\\u30ed\\u30c3\\u30d1\", \"\\u6771\\u30a2\\u30b8\\u30a2\", \"\\u5730\\u57df\", \"\\u6c96\\u7e04\", \"\\u65e5\\u672c\", \"\\u601d\\u60f3\", \"\\u5f7c\\u3089\", \"\\u793e\\u4f1a\", \"\\u53d7\\u5bb9\", \"\\u6b74\\u53f2\", \"\\u30d5\\u30e9\\u30f3\\u30b9\", \"\\u897f\\u6d0b\", \"19\", \"\\u5f62\\u6210\", \"\\u5f79\\u5272\", \"\\u5f71\\u97ff\", \"\\u6bd4\\u8f03\", \"\\u8003\\u5bdf\", \"\\u53f2\", \"\\u4f1d\\u7d71\", \"\\u5206\\u6790\", \"\\u73fe\\u4ee3\", \"\\u6642\\u4ee3\", \"\\u4e2d\", \"\\u5c55\\u958b\", \"\\u5177\\u4f53\", \"\\u7f8e\\u8853\", \"\\u95a2\\u4fc2\", \"\\u4e16\\u754c\", \"\\u6d3b\\u52d5\", \"\\u65b0\\u305f\", \"\\u5199\\u672c\", \"\\u6821\\u8a02\", \"\\u30c1\\u30d9\\u30c3\\u30c8\", \"\\u7d4c\\u5178\", \"\\u5bc6\\u6559\", \"\\u7d75\\u5dfb\", \"\\u30b5\\u30f3\\u30b9\\u30af\\u30ea\\u30c3\\u30c8\", \"\\u30a4\\u30f3\\u30c9\", \"\\u30f4\\u30a7\\u30fc\\u30c0\", \"\\u5f15\\u7528\", \"\\u5c0a\", \"\\u56fd\\u5b66\", \"\\u7bc0\", \"\\u53e4\\u3044\", \"\\u54c1\", \"\\u4e07\", \"\\u30b8\\u30e3\", \"\\u6d77\", \"\\u5b5d\", \"\\u548c\\u8a33\", \"\\u963f\\u5f25\\u9640\", \"\\u5343\", \"\\u30ac\\u30f3\\u30c0\\u30fc\\u30e9\", \"\\u50e7\", \"\\u8a3b\\u91c8\", \"\\u8056\\u5178\", \"\\u7384\", \"\\u540c\\u66f8\", \"\\u4e2d\\u592e\\u30a2\\u30b8\\u30a2\", \"\\u7d00\\u5143\", \"\\u4ecf\\u6559\", \"\\u6559\", \"\\u5100\\u793c\", \"\\u7d4c\", \"\\u30c6\\u30ad\\u30b9\\u30c8\", \"\\u7ae0\", \"\\u907a\\u8de1\", \"\\u89e3\\u8aad\", \"\\u6587\\u732e\", \"\\u7de8\\u7e82\", \"\\u521d\\u671f\", \"\\u7b87\\u6240\", \"\\u4f1d\\u627f\", \"\\u4e16\\u7d00\", \"\\u672c\", \"\\u4e2d\", \"\\u5341\", \"\\u90e8\\u5206\", \"\\u8cc7\\u6599\", \"\\u4f5c\\u6210\", \"\\u307f\\u308b\", \"\\u767a\\u898b\", \"\\u57fa\\u790e\", \"\\u65e5\\u672c\", \"\\u91cd\\u8981\", \"\\u5f93\\u6765\", \"\\u6bd4\\u8f03\", \"\\u7ffb\\u8a33\", \"\\u5c55\\u958b\", \"\\u89e3\\u660e\", \"\\u5185\\u5bb9\", \"\\u6210\\u7acb\", \"\\u601d\\u60f3\", \"\\u95a2\\u9023\", \"\\u8003\\u5bdf\", \"\\u4f5c\\u4f8b\", \"\\u56f3\", \"\\u58c1\\u753b\", \"\\u9020\", \"\\u753b\", \"\\u77f3\\u7a9f\", \"\\u7d75\", \"\\u4ecf\\u50cf\", \"\\u7f85\", \"\\u753b\\u9762\", \"\\u767d\", \"\\u5c71\\u6771\", \"\\u795e\\u793e\", \"\\u753b\\u5bb6\", \"\\u758f\", \"\\u76db\\u3093\", \"\\u4ee3\", \"\\u5357\\u5317\", \"\\u6ce8\\u6587\", \"\\u8056\\u6bcd\", \"\\u88fd\\u4f5c\", \"\\u50cf\", \"\\u968b\", \"\\u5c71\", \"\\u5f69\\u8272\", \"\\u9ad8\\u9e97\", \"\\u5bfa\", \"\\u753b\\u984c\", \"\\u6587\\u4eba\", \"\\u6750\\u6599\", \"\\u6280\\u6cd5\", \"\\u5510\", \"\\u6c5f\\u6238\", \"\\u56f3\\u50cf\", \"\\u7d75\\u753b\", \"\\u5317\", \"\\u5236\\u4f5c\", \"\\u4f5c\\u54c1\", \"\\u63cf\\u304f\", \"\\u753b\\u50cf\", \"\\u4eac\\u90fd\", \"\\u69d8\\u5f0f\", \"\\u4e2d\\u56fd\", \"\\u6642\\u4ee3\", \"\\u4eba\\u7269\", \"\\u78ba\\u8a8d\", \"\\u4e2d\\u5fc3\", \"\\u4fe1\\u4ef0\", \"\\u8868\\u73fe\", \"\\u8003\\u5bdf\", \"\\u30c7\\u30fc\\u30bf\", \"\\u5f71\\u97ff\", \"\\u5730\\u57df\", \"\\u7f8e\\u8853\", \"\\u5206\\u6790\", \"\\u95a2\\u4fc2\", \"\\u53ce\\u96c6\", \"\\u6620\\u753b\", \"\\u6b7b\\u751f\", \"\\u9451\\u8cde\", \"\\u518d\\u73fe\", \"\\u30ed\\u30de\\u30f3\", \"\\u7fd2\\u6163\", \"\\u5802\", \"\\u5de1\\u793c\", \"\\u30b7\\u30e5\\u30bf\\u30a4\\u30f3\", \"1960\", \"\\u82b8\\u8853\", \"\\u5148\\u4f4f\\u6c11\", \"\\u7ffb\\u6848\", \"\\u8aa4\\u8b2c\", \"\\u75c5\\u9662\", \"\\u5728\\u5b85\", \">\", \"\\u52d5\\u7269\", \"\\u52b4\\u50cd\", \"\\u30a2\\u30c9\\u30eb\\u30ce\", \"\\u767a\\u660e\", \"\\u4ecb\\u8b77\", \"\\u61d0\", \"\\u518d\\u751f\", \"\\u30dd\\u30ea\\u30b9\", \"\\u8cc7\\u672c\", \"\\u30d1\\u30ce\\u30e9\\u30de\", \"\\u907a\\u65cf\", \"\\u8c4a\\u304b\", \"\\u767e\\u79d1\\u5168\\u66f8\", \"\\u6b7b\", \"\\u6559\\u990a\", \"<\", \"\\u8996\\u899a\", \"\\u5bb6\\u65cf\", \"\\u30c7\\u30ea\\u30c0\", \"\\u6620\\u50cf\", \"\\u8a0e\\u8b70\", \"\\u5199\\u771f\", \"\\u5c55\\u793a\", \"\\u7f8e\\u5b66\", \"\\u4f5c\\u54c1\", \"\\u8868\\u73fe\", \"\\u5bb6\", \"\\u8056\\u5802\", \"\\u7d75\\u753b\", \"\\u5236\\u4f5c\", \"\\u8d85\\u8d8a\", \"\\u6b74\\u53f2\", \"\\u6587\\u5316\", \"\\u30e1\\u30c7\\u30a3\\u30a2\", \"\\u7f8e\\u8853\", \"\\u793e\\u4f1a\", \"\\u8ad6\\u3058\\u308b\", \"\\u610f\\u5473\", \"\\u5171\\u540c\", \"\\u8003\\u5bdf\", \"\\u95a2\\u4fc2\", \"\\u5177\\u4f53\", \"\\u5206\\u6790\", \"\\u30b9\\u30d4\\u30ce\\u30b6\", \"\\u6587\\u69d8\", \"\\u7aaf\", \"\\u97f3\", \"\\u6f14\\u594f\", \"\\u7269\\u4f53\", \"\\u30b7\\u30a8\\u30ca\", \"\\u523b\", \"\\u9752\\u78c1\", \"\\u4fee\\u5fa9\", \"\\u30a4\\u30b3\\u30f3\", \"\\u30b3\\u30ca\\u30c8\\u30a5\\u30b9\", \"\\u30ec\\u30d1\\u30fc\\u30c8\\u30ea\\u30fc\", \"\\u8f38\\u51fa\", \"\\u30aa\\u30ea\\u30a8\\u30f3\\u30c8\", \"\\u666f\", \"\\u5b57\", \"\\u5100\\u5f0f\", \"\\u6728\\u5f6b\", \"\\u82b1\", \"\\u5927\\u540c\", \"\\u713c\\u6210\", \"\\u67d3\\u7e54\", \"\\u5408\\u5531\", \"\\u9ec4\", \"--\", \"\\u7b46\\u8005\", \"\\u30b4\\u30b7\\u30c3\\u30af\", \"\\u88fd\\u54c1\", \"\\u5531\\u6b4c\", \"\\u30e9\\u30a4\\u30d7\\u30cb\\u30c3\\u30c4\", \"\\u97f3\\u697d\", \"\\u5f6b\\u523b\", \"\\u30e2\\u30c6\\u30a3\\u30fc\\u30d5\", \"\\u30d5\\u30a3\\u30eb\\u30e0\", \"17\", \"\\u6a5f\\u68b0\", \"\\u5fa9\\u5143\", \"\\u6587\", \"\\u82f1\\u56fd\", \"\\u69d8\\u5f0f\", \"\\u5bfe\\u8c61\", \"\\u95a2\\u9023\", \"\\u8a18\\u9332\", \"\\u5206\\u6790\", \"\\u7279\\u5fb4\", \"\\u4f7f\\u7528\", \"\\u671f\", \"\\u5510\", \"\\u6bd4\\u8f03\", \"\\u5f53\\u6642\", \"\\u9053\\u6559\", \"\\u7bc7\", \"\\u30d1\\u30fc\\u30ea\", \"\\u9053\\u5143\", \"\\u7fa9\", \"\\u30b9\\u30ea\\u30e9\\u30f3\\u30ab\", \"\\u695a\", \"\\u8ad6\\u8a9e\", \"\\u6625\\u79cb\", \"\\u4ecf\\u5178\", \"\\u5c65\\u8ed2\", \"\\u6731\", \"\\u5f1f\\u5b50\", \"\\u8a9e\\u5f59\", \"\\u6c17\", \"\\u4e2d\\u5eb8\", \"\\u751f\\u6c17\", \"\\u9673\", \"\\u5b66\\u8aac\", \"\\u6d1e\", \"\\u4e2d\\u4e95\", \"\\u520a\\u672c\", \"\\u8001\\u5b50\", \"\\u30d9\\u30f3\\u30e4\\u30df\\u30f3\", \"\\u6821\\u52d8\", \"\\u9db4\\u898b\", \"\\u90ed\", \"\\u6226\\u56fd\", \"\\u5e73\\u4e95\", \"\\u6167\", \"\\u8a33\\u6ce8\", \"\\u5dfb\", \"\\u6ce8\\u91c8\", \"\\u738b\", \"\\u5112\\u6559\", \"\\u672c\\u66f8\", \"\\u4e2d\\u56fd\", \"\\u601d\\u60f3\", \"\\u90e8\", \"\\u6ce8\", \"\\u8a9e\", \"\\u6f22\", \"\\u4f5c\\u6210\", \"\\u89e3\\u660e\", \"\\u4ecf\\u6559\", \"\\u8003\\u5bdf\", \"\\u4e0a\", \"\\u5927\\u4e57\", \"\\u5831\\u544a\", \"\\u5185\\u5bb9\", \"\\u51fa\\u7248\", \"\\u5177\\u4f53\", \"\\u6587\\u732e\", \"\\u5973\\u6027\", \"\\u4f9b\\u990a\", \"\\u7985\", \"\\u4fee\\u884c\", \"\\u91c8\\u8fe6\", \"P\", \"S\", \"\\u5065\\u5eb7\", \"\\u8fb2\", \"\\u5408\\u610f\", \"\\u512a\\u751f\", \"\\u7e01\\u8d77\", \"p\", \"\\u30d5\\u30a7\\u30df\\u30cb\\u30ba\\u30e0\", \"\\u5ff5\", \"\\u6bcd\\u6027\", \"G\", \"\\u30de\\u30f3\", \"\\u7791\\u60f3\", \"\\u81ea\\u9589\\u75c7\", \"\\u6210\", \"\\u667a\", \"\\u5f62\\u8c61\", \"\\u30df\\u30eb\", \"\\u5750\\u50cf\", \"\\u5951\", \"\\u51fa\\u751f\", \"\\u795e\\u50cf\", \"\\u58f0\\u805e\", \"\\u98a8\\u4fd7\", \"\\u56db\\u56fd\", \"\\u5c64\", \"\\u89b3\", \"\\u793c\", \"\\u969c\\u5bb3\", \"C\", \"\\u8aac\\u304f\", \"\\u72b6\\u614b\", \"\\u69cb\\u9020\", \"\\u8ad6\", \"\\u6bb5\\u968e\", \"\\u8a8d\\u8b58\", \"\\u5100\\u793c\", \"\\u5168\\u4f53\", \"\\u90e8\\u5206\", \"\\u8003\\u3048\\u308b\", \"\\u5206\\u6790\", \"\\u795e\", \"\\u795e\\u4ecf\", \"\\u69d8\\u614b\", \"\\u6edd\\u6ca2\", \"\\u30c1\\u30a7\\u30b3\", \"\\u8eab\\u5206\", \"\\u967d\\u660e\\u5b66\", \"\\u7687\\u56fd\", \"\\u8aac\\u6559\", \"\\u6240\\u6709\", \"\\u5e83\\u544a\", \"\\u53cb\\u611b\", \"\\u76f8\\u624b\", \"\\u30f6\\u6240\", \"\\u7a7a\", \"\\u6771\\u5357\", \"\\u8b5c\", \"\\u8a71\\u3057\\u624b\", \"\\u5929\\u5730\", \"\\u5927\\u5e2b\", \"\\u8868\\u308f\\u3059\", \"\\u72a0\\u7272\", \"\\u7b46\\u6cd5\", \"\\u5546\\u4eba\", \"\\u30df\\u30b5\", \"\\u7c56\\u672c\", \"\\u4f1d\\u6388\", \"\\u56fd\\u6587\\u5b66\", \"\\u6559\\u7956\", \"\\u8d85\", \"\\u51fa\\u6765\\u4e8b\", \"\\u904e\\u53bb\", \"\\u7a7a\\u9593\", \"\\u666f\\u89b3\", \"\\u7269\\u8a9e\", \"\\u6d44\\u571f\", \"\\u4ecf\", \"\\u6b63\\u7d71\", \"\\u6642\\u9593\", \"\\u4f5c\\u66f2\", \",\\u300c\", \"\\u89aa\\u9e1e\", \"\\u8eaf\", \"\\u4fe1\\u4ef0\", \"\\u5b58\\u5728\", \"\\u8ad6\\u8a3c\", \"\\u672a\\u6765\", \"\\u601d\\u60f3\", \"\\u4eba\", \"\\u77e5\", \"\\u898b\\u308b\", \"\\u540d\", \"\\u8c61\\u5fb4\", \"\\u81f3\\u308b\", \"\\u610f\\u5473\", \"\\u4e2d\", \"\\u69cb\\u9020\", \"\\u7570\\u306a\\u308b\"], \"Freq\": [530.0, 561.0, 474.0, 331.0, 184.0, 289.0, 135.0, 275.0, 230.0, 731.0, 306.0, 347.0, 305.0, 228.0, 156.0, 266.0, 168.0, 299.0, 428.0, 347.0, 321.0, 230.0, 201.0, 92.0, 146.0, 288.0, 223.0, 192.0, 260.0, 121.0, 560.5666549720398, 265.59101677527855, 221.75853700531354, 101.9605157240451, 98.98045174762605, 78.0430877307681, 69.99937176099694, 64.90127666992792, 59.954764155176385, 59.897817844759, 55.8393022023601, 52.340459795336685, 51.28840661187438, 49.01313392070085, 43.26485999175564, 42.407849006305135, 41.442445691156436, 40.39561491328608, 38.93773143336377, 37.43027607077519, 36.19536505678697, 34.40436658901021, 34.25508688980405, 32.11645531176091, 32.086508952749, 29.21361388359158, 29.18809690509594, 28.88224577641618, 28.407357395356225, 28.272547940225174, 212.33010283370342, 105.9580662637097, 56.685019393379456, 289.9481633614415, 128.56120990606144, 104.39024221772104, 152.7149779368471, 113.7989500537069, 222.63427501250996, 88.01197326083884, 186.6736149888051, 119.59685213879146, 116.95738667657757, 176.7609617109641, 118.12414567092402, 106.37839971489348, 106.13320298763948, 149.11069120510382, 125.51148104966795, 105.57632021328307, 125.1307711194196, 138.30633186365995, 87.49703451621004, 155.9840929997598, 136.324776845797, 130.48844977208333, 117.08269134390942, 97.9283726759479, 226.86619834791142, 120.92616026814946, 94.60122517387002, 64.46004139372423, 50.86497682690718, 49.049934415136946, 44.68581443521074, 40.94415490280476, 40.467930826566125, 37.21468913326732, 37.20464020946339, 34.88803597417186, 34.0817859565377, 28.424738592024774, 27.03534877444362, 26.052109226582278, 88.88514713805743, 25.517027757617253, 25.26434245005889, 25.23242794182617, 24.90603324336876, 137.52363824861402, 24.812109438381583, 24.776135173328303, 23.836006830305656, 23.456556956816453, 76.92432539693294, 21.6754934688954, 20.94406487208194, 140.5490024484044, 65.83891954222271, 140.64406884708296, 111.42033450258494, 185.61525768148442, 152.059841709017, 140.55162525438234, 79.12416542111275, 162.33758963082977, 65.9799492729767, 139.83838232705094, 91.42684511932688, 165.96752909011818, 230.78459211980532, 237.4014912673503, 158.04510685584202, 55.950806922455165, 63.55639350222833, 109.26892777680067, 86.8713726489973, 226.32601335628178, 81.29280191448058, 94.75306270975192, 118.92918992095693, 72.95937345132923, 76.76626861534614, 83.18098508723604, 75.91906122037422, 79.33367058944525, 66.62298955335686, 49.06646215357824, 41.80915880264106, 459.478468066858, 36.289620990847865, 35.73993495529783, 27.30992239289752, 27.08917693528283, 26.469332082064774, 26.161450815806774, 24.220181288653304, 22.123544192357713, 18.955333618404126, 18.498137421032506, 18.137410840270945, 17.85468008140536, 17.42294227018262, 17.344165859672703, 17.02761051414877, 16.302752429985137, 15.99200714260732, 15.534613445379295, 14.638342410419101, 14.313195748245999, 14.228796141610834, 14.161904327424663, 83.3226713665905, 13.232512015004923, 13.003036843605276, 12.668324418200337, 59.65483778508492, 63.94610581063031, 39.29849682161167, 41.41159008825954, 222.7177494825728, 38.458324772819374, 44.84282863773964, 103.51729168297547, 160.7254446301376, 58.388207112839424, 71.59610264381509, 131.11529156426306, 30.741238122669714, 372.4895254388211, 268.33527810555887, 45.01077568617221, 180.76776496382936, 85.81443691751014, 160.38824050279624, 81.14820083192903, 69.66081596926205, 65.66033610107793, 81.44832925170287, 64.73263466049077, 95.1815512972197, 102.82795494728639, 138.90082378402508, 79.83570507759595, 68.57628641377126, 119.76730426151428, 92.97993991832713, 85.54526491960387, 91.98197307894391, 86.60435156481041, 83.71038946175257, 79.38261582039021, 82.95477901141723, 73.21997640251463, 69.10405248014445, 69.01663165010702, 111.16059208234411, 47.8303517680977, 43.60367421354545, 41.81318512421175, 35.66307737435466, 30.37170607969788, 28.542876774229097, 159.50992607022275, 24.296393478180754, 23.050573531514775, 16.614350735649342, 16.08974827179245, 15.332763460065252, 15.054517155086671, 14.998285590333774, 14.879548104902717, 14.830891281458527, 14.71695524174254, 13.528288351459908, 13.042365762897381, 12.89717020090202, 12.878906343484495, 12.586604129484472, 12.458403071556464, 12.288196921266088, 12.277782904458762, 12.06662590603248, 11.816971963494815, 11.424438301332753, 11.158993352523655, 237.46622225095632, 54.009548676240264, 52.96507259553779, 45.02426255309819, 71.63881188998185, 55.2458674973636, 18.172042351787628, 29.18187048813454, 121.84140056548614, 17.4244253248797, 50.10143149527281, 18.43102795634563, 23.20415298400523, 56.821057138499924, 44.593525634485346, 90.05725181841487, 34.72264457827666, 34.705821447942846, 85.99171707785851, 59.09268474037312, 35.58892224716195, 32.30811768213946, 53.32037793885027, 96.11870079599584, 56.6806452157835, 47.08949585710827, 54.208409817880394, 39.11353679312164, 46.95873863034103, 47.91944597353258, 38.810443313071396, 39.94905712977574, 45.112445532397025, 40.2664187719917, 40.385265435876484, 42.99851056114966, 41.805023103798995, 41.2339195506894, 40.8834964779589, 39.23917147059405, 34.50224613717915, 29.816038887448077, 24.761673362190184, 23.708491355912987, 23.610750848152403, 19.360985894514748, 18.425442022026253, 18.194782971980604, 86.33239629662945, 15.695524481252322, 15.040393304282382, 12.761841747273467, 12.620627195122358, 12.57080608590539, 12.195042012401737, 12.184458030490331, 108.24432260740812, 11.91452408432657, 11.59688982880875, 11.203311232136896, 11.141377319513962, 11.029302497103142, 10.858840470004772, 10.755615355844647, 10.648650950392009, 39.39063412359275, 60.87158361832576, 53.74349137934072, 114.61561583268652, 122.09479052372721, 33.00258747655235, 92.45734352846053, 164.84057245551537, 55.78430657843884, 40.206720636927564, 48.09024202171764, 34.80858325522372, 138.0098533147803, 76.76735176116303, 20.823146194680596, 59.60977406413716, 71.93594731585199, 34.53495830475713, 40.220448787802454, 57.26605585502852, 33.157765855109595, 40.57958125326778, 39.65287794873363, 39.95591204504229, 39.85597676509939, 37.0060666135241, 35.69912481048377, 30.71885469850403, 25.653022779002992, 24.48207368109567, 18.0464946032702, 17.433133666473537, 16.21704729139228, 15.036028417219226, 13.01727381826742, 12.543637891000396, 11.696346850663021, 162.91819046844523, 11.253413536439977, 11.16114822931527, 10.98937377073956, 10.631119337261511, 10.552222064608848, 50.30410519460956, 32.5515090808415, 9.39456087633713, 8.893735156187192, 8.849487872586325, 8.395715454201534, 7.868591194639568, 7.586497221227608, 7.088320109277563, 7.014550746621174, 6.95681461877675, 6.938918365921722, 6.741148655652007, 6.709722738007542, 37.401464449281335, 11.669826692990988, 56.64784132024639, 32.04691905750222, 20.19689058761333, 15.112857265283667, 23.166124063413886, 13.491922860329518, 53.6873832545008, 18.54488860137828, 36.72995013241472, 75.5355478711816, 42.26355065813307, 22.728486064989006, 17.600633935521085, 33.09502348424836, 30.647147460149803, 17.348238148622407, 39.37086902112764, 32.84785613578148, 16.21888692618126, 31.350546586787928, 29.212757206800568, 19.870268740010932, 24.561594909420958, 21.085447926138283, 23.705792102559524, 23.104790528088337, 19.94071683910024, 18.138979197132485, 56.88528022277263, 26.681749263220905, 22.82902658548722, 22.151904883942098, 21.01925695808665, 20.220712942169147, 14.988145379758238, 12.253683281720145, 11.527239333748962, 11.280194596564098, 10.788673480429532, 10.364146540896243, 9.89464919886113, 9.834279994732261, 9.093717251522405, 9.075409623064004, 8.891956733984255, 8.670367595088534, 8.55386675189418, 8.504081745286182, 8.146465905743494, 7.511927905954639, 7.420015923053406, 6.955346341438538, 6.732623733408563, 6.632430818594567, 6.627193966202068, 6.206054727701742, 6.07249122243005, 6.063958019079222, 18.270910326163886, 61.84580280638587, 28.703002032370918, 10.450082646715074, 9.582873501944517, 17.587613320522006, 9.701166784116067, 10.183568371851337, 10.821005021251043, 10.590295594360255, 13.197057571551863, 17.793916686944307, 17.30524256869882, 11.589558884138816, 18.460780407086773, 13.18177298516641, 11.486439647524831, 11.204666935427419, 10.94674672005434, 11.659911963494801, 10.43825208953905, 63.01438582149726, 28.98678770862871, 21.587805499511376, 20.85702819379278, 19.211154121024325, 16.225051052881025, 15.91179198557916, 15.680190671502565, 14.345178675529933, 12.634124737695943, 12.317379012817605, 12.240607798460573, 11.455605755424031, 11.067464495608517, 10.840687761322798, 10.793292127792613, 10.49558116753307, 9.624323385273433, 9.55187799448619, 9.215389967643649, 9.152173318256601, 8.25723369722553, 8.03362019252309, 7.9780070247071455, 7.7212940019050995, 7.675880738881265, 7.375368172549631, 7.184351703211167, 7.148921061331773, 7.133265582879696, 28.386146880353472, 60.02784642003542, 24.76028175148371, 20.239516614863717, 25.367486753337225, 10.476297544799127, 69.410759250195, 89.29642053680993, 24.601129047198523, 10.68460451391662, 19.329201331570115, 15.983316076704392, 24.59554471526194, 26.820202421385325, 25.38546859144001, 24.791360370375063, 15.988458623604116, 13.016062613657033, 15.907569903816377, 14.830593142671447, 14.036391572914193, 14.02837244066572, 13.336778741216794, 59.737023961751355, 35.51809169913355, 23.59246175661475, 21.562574753105583, 18.540714914234055, 17.662367890963786, 14.111176708406044, 13.732227222553917, 12.043561537214337, 11.55329371602036, 10.911250698092587, 10.891478977109815, 9.964428893933558, 9.831663616873891, 9.03404876039126, 9.01101872857992, 8.944820179903115, 7.981392712072828, 7.929247330532313, 7.8732155647602875, 7.865034438210409, 7.7514429222804715, 7.381032683984694, 7.12257828373663, 7.068074194121374, 6.891437402889929, 6.862660935872496, 6.580244222262768, 6.185045897428993, 6.170492872566103, 13.239330299931524, 13.39655384579302, 29.806882198320526, 9.64222066786769, 9.67162082207667, 12.714465138779632, 13.2754469931207, 9.676519724587417, 15.26693331592092, 20.563092834133933, 11.135353843761502, 14.89063079723423, 11.851298600286311, 12.938686257605557, 11.926734746646998, 10.313254812004594, 10.557457841888766, 130.06134868796082, 21.829632642745192, 13.521393561783142, 10.386640019506293, 9.256624679962309, 9.10774078249104, 8.684497080437431, 8.026065482966965, 8.006805525054627, 7.835695075236481, 7.710064952297246, 7.443910518341452, 7.10736568626805, 6.881547323172286, 6.686586668278095, 6.604015357556873, 6.1443863783377, 6.139328922324012, 6.107543489262966, 6.022801942403909, 6.021506833548293, 5.772366415233798, 5.741608807917867, 5.694577912298368, 5.496318502305867, 5.401147229222099, 5.363652973577509, 5.351372836029501, 4.910383255608002, 4.794759917419682, 16.565436285524104, 24.492302652127858, 39.36505584687116, 14.560801960362976, 22.427253007792388, 18.584057236921534, 20.469726424285128, 9.475950399076472, 26.607311792239244, 8.776402735549464, 14.048490450415661, 8.925011252870913, 8.683499544287718, 19.85019501431905, 34.20443087833123, 11.219586264531705, 10.156504737429215, 29.13255258533985, 14.654005357144852, 12.053274834723195, 15.472736085170238, 10.691709732163533, 9.21515960911502, 10.489399882748454, 11.434745892992272, 11.180607351020035, 9.466004740294709, 9.521227383940204], \"Total\": [530.0, 561.0, 474.0, 331.0, 184.0, 289.0, 135.0, 275.0, 230.0, 731.0, 306.0, 347.0, 305.0, 228.0, 156.0, 266.0, 168.0, 299.0, 428.0, 347.0, 321.0, 230.0, 201.0, 92.0, 146.0, 288.0, 223.0, 192.0, 260.0, 121.0, 561.8340117511664, 266.8583735544052, 223.02589378444014, 103.2278725031717, 100.24780852675265, 79.3104445098947, 71.26672854012354, 66.16863344905452, 61.22212093430298, 61.16517462388559, 57.106658981486696, 53.60781657446328, 52.55576339100097, 50.280490699827446, 44.532216770882236, 43.67520578543173, 42.70980247028303, 41.662971692412675, 40.20508821249037, 38.69763284990179, 37.46272183591356, 35.6717233681368, 35.52244366893064, 33.3838120908875, 33.353865731875594, 30.480970662718175, 30.45545368422253, 30.149602555542774, 29.67471417448282, 29.539904719351764, 225.63720694337493, 111.83671056356664, 59.71034193170995, 321.0388457194352, 139.5402695287009, 113.1868343712006, 177.30546141409118, 132.61408914310928, 306.6150517572209, 106.93036264141463, 265.0986671849392, 157.71225252948648, 155.16924518762323, 260.4932748104739, 171.70024899430888, 149.26952596649159, 152.98656463727693, 273.27293073000345, 210.42536169145666, 160.91957554549828, 230.93274616745134, 299.5288357518304, 128.33827829793307, 440.73080850030595, 347.2094258161065, 385.6787243090522, 428.80278996464745, 530.4874121466157, 228.14132391628291, 122.20128583652092, 95.87635074224148, 65.73516696209569, 52.140102395278646, 50.32505998350841, 45.9609400035822, 42.219280471176226, 41.74305639493759, 38.489814701638785, 38.47976577783486, 36.16316154254333, 35.356911524909165, 29.699864160396235, 28.31047434281508, 27.327234794953743, 93.30313007348227, 26.792153325988718, 26.53946801843035, 26.507553510197635, 26.18115881174022, 144.58183667559808, 26.087235006753044, 26.051260741699767, 25.111132398677118, 24.731682525187917, 81.2774986956783, 22.950619037266865, 22.2191904404534, 149.2685681406886, 69.97127867561994, 151.54217063526872, 120.2674074444714, 203.43329271583391, 173.52943932583085, 160.22577843071198, 88.82341254771596, 192.05063840372264, 73.92034077302172, 175.1429302158119, 109.40589622375443, 212.45206664820589, 347.8971141633743, 363.2368589615259, 223.3787841030117, 69.61489155924578, 86.32185076886033, 201.80836826306555, 141.0552178189855, 731.5821581862622, 133.35593213123684, 176.5523957485269, 270.3949716469169, 118.55998955079143, 162.60844758055518, 264.9024083621523, 195.78140602121655, 325.0191739202677, 67.95885221273574, 50.40232481295712, 43.14502146201993, 474.26468160806064, 37.62548365022674, 37.0757976146767, 28.64578505227639, 28.4250395946617, 27.805194741443646, 27.497313475185646, 25.556043948032176, 23.459406851736585, 20.291196277782998, 19.83400008041138, 19.473273499649817, 19.19054274078423, 18.758804929561492, 18.680028519051575, 18.36347317352764, 17.63861508936401, 17.327869801986193, 16.870476104758165, 15.974205069797971, 15.649058407624869, 15.564658800989704, 15.497766986803533, 91.31106834379769, 14.568374674383794, 14.338899502984146, 14.004187077579207, 67.14898691205954, 73.9218039357693, 44.90299440046466, 47.87828132704687, 288.9881108470998, 44.61415891755433, 54.25757716153963, 136.97644572629727, 230.5667278490991, 74.48243481998924, 94.19792195754486, 202.2034591965814, 36.667574746022815, 731.5821581862622, 530.4874121466157, 60.14471790655647, 347.2094258161065, 135.79789308885807, 305.57312217469064, 137.36028963269683, 113.47119014318835, 107.39304031067172, 156.19667815828754, 115.0466583910365, 217.62915941752877, 249.5091843191078, 428.80278996464745, 165.58141027480718, 127.92589149102524, 440.73080850030595, 273.27293073000345, 235.3594038067323, 301.50656910324136, 255.36946313685436, 242.26928214714852, 270.3949716469169, 385.6787243090522, 195.25245166648767, 162.60844758055518, 206.1013945601554, 112.58417005110881, 49.253929736862396, 45.02725218231015, 43.236763092976446, 37.086655343119354, 31.79528404846257, 29.966454742993786, 168.45006017502936, 25.719971446945443, 24.474151500279465, 18.037928704414032, 17.513326240557138, 16.75634142882994, 16.47809512385136, 16.421863559098465, 16.303126073667407, 16.254469250223217, 16.14053321050723, 14.951866320224598, 14.46594373166207, 14.32074816966671, 14.302484312249184, 14.010182098249162, 13.881981040321154, 13.711774890030778, 13.701360873223452, 13.490203874797169, 13.240549932259505, 12.848016270097443, 12.582571321288345, 275.49185567288174, 67.05689953969251, 66.18533424315288, 57.95495014717648, 99.73009878009947, 75.22276615502513, 21.767107899889776, 41.10171071702083, 264.9024083621523, 21.432102400037735, 91.17082208359864, 23.186440237255322, 32.50689893998378, 127.6559649222291, 90.76715347094769, 301.50656910324136, 68.80471060917944, 69.2660480323707, 347.8971141633743, 201.80836826306555, 79.30423440692095, 70.51489570812832, 203.89166151596305, 731.5821581862622, 246.94822108573567, 168.9651438938224, 249.5091843191078, 112.79218218927974, 255.36946313685436, 299.5288357518304, 122.21657877468854, 150.41286686468823, 530.4874121466157, 222.92987734719011, 428.80278996464745, 44.48698996866258, 43.293502511311914, 42.72239895820232, 42.37197588547182, 40.72765087810697, 35.99072554469207, 31.304518294961, 26.250152769703107, 25.19697076342591, 25.099230255665326, 20.84946530202767, 19.913921429539176, 19.683262379493527, 93.73881176007674, 17.184003888765243, 16.528872711795305, 14.25032115478639, 14.109106602635281, 14.059285493418313, 13.68352141991466, 13.672937438003254, 121.65727498816311, 13.403003491839494, 13.085369236321673, 12.691790639649819, 12.629856727026885, 12.517781904616065, 12.347319877517695, 12.24409476335757, 12.137130357904931, 45.210869490868106, 73.23823734240621, 64.81438898509886, 146.1766841264109, 156.6028684993603, 42.193374688210625, 141.69329681594036, 289.83819964192253, 84.4881645636453, 58.69596209436044, 76.82742690843722, 53.35002195189629, 331.407308970559, 235.3594038067323, 28.186805456027052, 188.2553668453567, 325.0191739202677, 77.74815648293259, 118.1734572502813, 428.80278996464745, 86.10079360222548, 217.62915941752877, 202.2034591965814, 270.3949716469169, 440.73080850030595, 385.6787243090522, 223.3787841030117, 32.267097505073586, 27.201265585572546, 26.030316487665225, 19.594737409839755, 18.981376473043092, 17.765290097961834, 16.584271223788782, 14.565516624836974, 14.09188069756995, 13.244589657232575, 184.78592773925192, 12.801656343009531, 12.709391035884824, 12.537616577309114, 12.179362143831066, 12.100464871178403, 58.21487998392827, 37.841643936978336, 10.942803682906684, 10.441977962756747, 10.39773067915588, 9.943958260771089, 9.416834001209123, 9.134740027797163, 8.636562915847119, 8.562793553190728, 8.505057425346305, 8.487161172491277, 8.289391462221563, 8.257965544577097, 46.42452631493773, 14.7352222515468, 79.90637444582563, 46.321777006903346, 27.890926697347194, 20.3373478619929, 33.26525562126579, 18.534881871837527, 106.51033751562936, 28.08885216620765, 76.48021708492583, 289.83819964192253, 118.1734572502813, 45.90564745785135, 32.259801565174335, 156.6028684993603, 141.69329681594036, 36.45011303581274, 305.57312217469064, 230.5667278490991, 31.39967203938917, 270.3949716469169, 347.2094258161065, 82.73466521923235, 260.4932748104739, 130.671279032114, 428.80278996464745, 385.6787243090522, 242.26928214714852, 440.73080850030595, 58.44037554198357, 28.236844582431846, 24.384121904698162, 23.70700020315304, 22.574352277297592, 21.77580826138009, 16.543240698969182, 13.808778600931086, 13.082334652959904, 12.83528991577504, 12.343768799640474, 11.919241860107185, 11.449744518072071, 11.389375313943203, 10.648812570733346, 10.630504942274946, 10.447052053195197, 10.225462914299476, 10.108962071105122, 10.059177064497124, 9.701561224954435, 9.067023225165581, 8.975111242264349, 8.51044166064948, 8.287719052619504, 8.18752613780551, 8.18228928541301, 7.761150046912685, 7.6275865416409925, 7.619053338290165, 23.332224185547943, 92.08124099634352, 49.249477948725776, 15.1841613453352, 15.53614272177163, 67.80585278301572, 19.96231084822223, 22.715818996799893, 27.651899055720467, 25.998435481194132, 53.35002195189629, 168.07668503269772, 222.92987734719011, 39.75339288298697, 440.73080850030595, 123.4100750638649, 69.08847464438198, 68.84691991543014, 73.23823734240621, 249.5091843191078, 93.14542754440055, 64.58906803003687, 30.56146991716832, 23.162487708050985, 22.43171040233239, 20.785836329563935, 17.799733261420634, 17.48647419411877, 17.254872880042175, 15.919860884069545, 14.208806946235555, 13.892061221357217, 13.815290007000185, 13.030287963963643, 12.642146704148129, 12.41536996986241, 12.367974336332225, 12.070263376072681, 11.199005593813045, 11.126560203025802, 10.79007217618326, 10.726855526796212, 9.831915905765142, 9.608302401062701, 9.552689233246756, 9.29597621044471, 9.250562947420876, 8.950050381089243, 8.759033911750779, 8.723603269871385, 8.707947791419308, 35.19729976012737, 92.41552711245329, 35.62604014328416, 29.65647014328849, 46.105213523488906, 14.956186916875748, 331.407308970559, 530.4874121466157, 65.44122951042193, 15.507793791718997, 47.0641849495125, 45.28655923310082, 201.80836826306555, 299.5288357518304, 275.49185567288174, 428.80278996464745, 113.4342609086615, 40.37742909459436, 192.05063840372264, 122.21657877468854, 173.52943932583085, 242.26928214714852, 264.9024083621523, 61.30607676301319, 37.08714450039538, 25.161514557876583, 23.131627554367416, 20.109767715495888, 19.23142069222562, 15.680229509667878, 15.301280023815751, 13.612614338476172, 13.122346517282194, 12.480303499354422, 12.46053177837165, 11.533481695195393, 11.400716418135726, 10.603101561653094, 10.580071529841755, 10.51387298116495, 9.550445513334662, 9.498300131794148, 9.442268366022121, 9.434087239472243, 9.320495723542306, 8.950085485246529, 8.691631084998464, 8.637126995383209, 8.460490204151764, 8.43171373713433, 8.149297023524602, 7.754098698690828, 7.739545673827938, 16.73935892944093, 18.69054191168375, 52.80562751249619, 13.280202132415038, 13.56520953609359, 24.96555792762725, 33.671373580429716, 17.34854622656174, 80.19617947454522, 306.6150517572209, 42.30958235710567, 152.98656463727693, 66.18533424315288, 107.0325892149637, 69.2660480323707, 223.31696840843028, 440.73080850030595, 135.98913787051947, 23.405166628288498, 15.09692754732645, 11.9621740050496, 10.832158665505617, 10.683274768034348, 10.260031065980739, 9.601599468510273, 9.582339510597935, 9.411229060779789, 9.285598937840554, 9.01944450388476, 8.682899671811358, 8.457081308715594, 8.262120653821402, 8.179549343100181, 7.719920363881007, 7.714862907867319, 7.683077474806273, 7.5983359279472165, 7.597040819091601, 7.347900400777106, 7.317142793461175, 7.270111897841676, 7.071852487849174, 6.9766812147654065, 6.939186959120817, 6.926906821572809, 6.485917241151309, 6.37029390296299, 22.89916592950067, 38.53509134968898, 72.8604964940587, 22.712266151570407, 39.964943213036804, 31.79362459194803, 43.83941431349969, 15.2718211237665, 71.04808221096124, 13.742511080354552, 29.23829673728096, 14.757831140033687, 14.564307457521057, 77.74815648293259, 230.93274616745134, 29.41773800392518, 25.378043706175834, 530.4874121466157, 96.99713552013893, 48.354245179453734, 164.74269801049144, 35.82634203541133, 23.149719240970633, 68.06582349391134, 260.4932748104739, 301.50656910324136, 80.19617947454522, 119.29146223740585], \"logprob\": [30.0, 29.0, 28.0, 27.0, 26.0, 25.0, 24.0, 23.0, 22.0, 21.0, 20.0, 19.0, 18.0, 17.0, 16.0, 15.0, 14.0, 13.0, 12.0, 11.0, 10.0, 9.0, 8.0, 7.0, 6.0, 5.0, 4.0, 3.0, 2.0, 1.0, -3.8892, -4.6362, -4.8166, -5.5936, -5.6232, -5.8609, -5.9697, -6.0453, -6.1246, -6.1255, -6.1957, -6.2604, -6.2807, -6.3261, -6.4508, -6.4708, -6.4938, -6.5194, -6.5562, -6.5957, -6.6292, -6.68, -6.6843, -6.7488, -6.7497, -6.8435, -6.8444, -6.8549, -6.8715, -6.8763, -4.86, -5.5551, -6.1806, -4.5484, -5.3617, -5.57, -5.1896, -5.4837, -4.8126, -5.7407, -4.9888, -5.434, -5.4563, -5.0433, -5.4464, -5.5511, -5.5534, -5.2135, -5.3857, -5.5587, -5.3888, -5.2887, -5.7465, -5.1684, -5.3031, -5.3469, -5.4553, -5.6339, -4.5774, -5.2066, -5.4521, -5.8357, -6.0726, -6.1089, -6.2021, -6.2895, -6.3012, -6.385, -6.3853, -6.4496, -6.473, -6.6545, -6.7046, -6.7416, -5.5144, -6.7624, -6.7723, -6.7736, -6.7866, -5.0779, -6.7904, -6.7919, -6.8305, -6.8466, -5.6589, -6.9256, -6.9599, -5.0562, -5.8145, -5.0555, -5.2884, -4.7781, -4.9775, -5.0562, -5.6307, -4.9121, -5.8124, -5.0612, -5.4862, -4.8899, -4.5602, -4.532, -4.9389, -5.9773, -5.8498, -5.3079, -5.5373, -4.5798, -5.6037, -5.4505, -5.2232, -5.7118, -5.661, -5.5807, -5.6721, -5.6281, -5.6789, -5.9848, -6.1449, -3.7479, -6.2864, -6.3017, -6.5707, -6.5788, -6.602, -6.6137, -6.6908, -6.7813, -6.9359, -6.9603, -6.98, -6.9957, -7.0202, -7.0247, -7.0431, -7.0866, -7.1059, -7.1349, -7.1943, -7.2168, -7.2227, -7.2274, -5.4553, -7.2953, -7.3128, -7.3389, -5.7894, -5.7199, -6.2068, -6.1544, -4.4721, -6.2284, -6.0748, -5.2382, -4.7983, -5.8109, -5.6069, -5.0019, -6.4524, -3.9578, -4.2857, -6.0711, -4.6808, -5.4258, -4.8004, -5.4817, -5.6343, -5.6935, -5.478, -5.7077, -5.3222, -5.2449, -4.9442, -5.498, -5.65, -5.0924, -5.3456, -5.4289, -5.3564, -5.4166, -5.4506, -5.5037, -5.4597, -5.5845, -5.6424, -5.6436, -4.6983, -5.5416, -5.6342, -5.6761, -5.8352, -5.9958, -6.0579, -4.3372, -6.219, -6.2716, -6.599, -6.6311, -6.6793, -6.6976, -6.7014, -6.7093, -6.7126, -6.7203, -6.8045, -6.8411, -6.8523, -6.8537, -6.8767, -6.8869, -6.9007, -6.9015, -6.9189, -6.9398, -6.9735, -6.9971, -3.9393, -5.4201, -5.4397, -5.6021, -5.1377, -5.3975, -6.5094, -6.0358, -4.6066, -6.5514, -5.4952, -6.4953, -6.265, -5.3694, -5.6117, -4.9089, -5.8619, -5.8624, -4.955, -5.3302, -5.8373, -5.934, -5.433, -4.8437, -5.3719, -5.5572, -5.4165, -5.7428, -5.56, -5.5398, -5.7506, -5.7217, -5.6001, -5.7138, -5.7108, -5.1967, -5.2249, -5.2386, -5.2472, -5.2882, -5.4169, -5.5629, -5.7486, -5.7921, -5.7962, -5.9946, -6.0442, -6.0568, -4.4997, -6.2045, -6.2472, -6.4114, -6.4226, -6.4265, -6.4569, -6.4577, -4.2735, -6.4801, -6.5072, -6.5417, -6.5472, -6.5573, -6.5729, -6.5825, -6.5925, -5.2844, -4.8491, -4.9737, -4.2163, -4.1531, -5.4613, -4.4312, -3.8529, -4.9364, -5.2639, -5.0848, -5.408, -4.0306, -4.6171, -5.9218, -4.8701, -4.6821, -5.4159, -5.2635, -4.9102, -5.4566, -5.2546, -5.2777, -5.2701, -5.2726, -5.3468, -5.3828, -4.9157, -5.0959, -5.1426, -5.4476, -5.4822, -5.5545, -5.6301, -5.7743, -5.8113, -5.8813, -3.2473, -5.9199, -5.9281, -5.9436, -5.9768, -5.9842, -4.4225, -4.8577, -6.1004, -6.1552, -6.1602, -6.2128, -6.2777, -6.3142, -6.3821, -6.3926, -6.4008, -6.4034, -6.4323, -6.437, -4.7188, -5.8835, -4.3037, -4.8733, -5.335, -5.625, -5.1979, -5.7385, -4.3574, -5.4204, -4.737, -4.0159, -4.5966, -5.2169, -5.4726, -4.8412, -4.918, -5.4871, -4.6675, -4.8487, -5.5544, -4.8953, -4.9659, -5.3513, -5.1394, -5.292, -5.1748, -5.2005, -5.3478, -5.4425, -3.9287, -4.6857, -4.8417, -4.8718, -4.9242, -4.963, -5.2624, -5.4639, -5.525, -5.5466, -5.5912, -5.6313, -5.6777, -5.6838, -5.7621, -5.7641, -5.7845, -5.8098, -5.8233, -5.8291, -5.8721, -5.9532, -5.9655, -6.0302, -6.0627, -6.0777, -6.0785, -6.1442, -6.1659, -6.1673, -5.0644, -3.845, -4.6127, -5.6231, -5.7097, -5.1025, -5.6974, -5.6489, -5.5882, -5.6097, -5.3897, -5.0908, -5.1187, -5.5196, -5.054, -5.3909, -5.5285, -5.5534, -5.5766, -5.5135, -5.6242, -3.7923, -4.5689, -4.8636, -4.898, -4.9802, -5.1491, -5.1686, -5.1833, -5.2723, -5.3993, -5.4247, -5.4309, -5.4972, -5.5317, -5.5524, -5.5568, -5.5848, -5.6714, -5.679, -5.7148, -5.7217, -5.8246, -5.8521, -5.859, -5.8917, -5.8976, -5.9376, -5.9638, -5.9687, -5.9709, -4.5898, -3.8409, -4.7265, -4.9281, -4.7022, -5.5866, -3.6957, -3.4437, -4.7329, -5.5669, -4.9741, -5.1642, -4.7331, -4.6465, -4.7015, -4.7252, -5.1638, -5.3695, -5.1689, -5.239, -5.2941, -5.2946, -5.3452, -3.6705, -4.1904, -4.5995, -4.6895, -4.8405, -4.889, -5.1135, -5.1407, -5.2719, -5.3135, -5.3707, -5.3725, -5.4614, -5.4748, -5.5595, -5.562, -5.5694, -5.6833, -5.6899, -5.697, -5.698, -5.7126, -5.7615, -5.7972, -5.8049, -5.8302, -5.8344, -5.8764, -5.9383, -5.9407, -5.1773, -5.1655, -4.3657, -5.4943, -5.4913, -5.2177, -5.1745, -5.4907, -5.0348, -4.737, -5.3503, -5.0597, -5.288, -5.2002, -5.2817, -5.427, -5.4036, -2.8306, -4.6154, -5.0944, -5.3581, -5.4733, -5.4895, -5.5371, -5.6159, -5.6183, -5.6399, -5.6561, -5.6912, -5.7375, -5.7698, -5.7985, -5.811, -5.8831, -5.8839, -5.8891, -5.9031, -5.9033, -5.9456, -5.9509, -5.9591, -5.9946, -6.012, -6.019, -6.0213, -6.1073, -6.1311, -4.8913, -4.5003, -4.0258, -5.0203, -4.5884, -4.7763, -4.6797, -5.4499, -4.4174, -5.5266, -5.0561, -5.5098, -5.5372, -4.7104, -4.1663, -5.281, -5.3805, -4.3268, -5.0139, -5.2093, -4.9596, -5.3292, -5.4778, -5.3483, -5.262, -5.2845, -5.4509, -5.4451], \"Category\": [\"Default\", \"Default\", \"Default\", \"Default\", \"Default\", \"Default\", \"Default\", \"Default\", \"Default\", \"Default\", \"Default\", \"Default\", \"Default\", \"Default\", \"Default\", \"Default\", \"Default\", \"Default\", \"Default\", \"Default\", \"Default\", \"Default\", \"Default\", \"Default\", \"Default\", \"Default\", \"Default\", \"Default\", \"Default\", \"Default\", \"Topic1\", \"Topic1\", \"Topic1\", \"Topic1\", \"Topic1\", \"Topic1\", \"Topic1\", \"Topic1\", \"Topic1\", \"Topic1\", \"Topic1\", \"Topic1\", \"Topic1\", \"Topic1\", \"Topic1\", \"Topic1\", \"Topic1\", \"Topic1\", \"Topic1\", \"Topic1\", \"Topic1\", \"Topic1\", \"Topic1\", \"Topic1\", \"Topic1\", \"Topic1\", \"Topic1\", \"Topic1\", \"Topic1\", \"Topic1\", \"Topic1\", \"Topic1\", \"Topic1\", \"Topic1\", \"Topic1\", \"Topic1\", \"Topic1\", \"Topic1\", \"Topic1\", \"Topic1\", \"Topic1\", \"Topic1\", \"Topic1\", \"Topic1\", \"Topic1\", \"Topic1\", \"Topic1\", \"Topic1\", \"Topic1\", \"Topic1\", \"Topic1\", \"Topic1\", \"Topic1\", \"Topic1\", \"Topic1\", \"Topic1\", \"Topic1\", \"Topic1\", \"Topic2\", \"Topic2\", \"Topic2\", \"Topic2\", \"Topic2\", \"Topic2\", \"Topic2\", \"Topic2\", \"Topic2\", \"Topic2\", \"Topic2\", \"Topic2\", \"Topic2\", \"Topic2\", \"Topic2\", \"Topic2\", \"Topic2\", \"Topic2\", \"Topic2\", \"Topic2\", \"Topic2\", \"Topic2\", \"Topic2\", \"Topic2\", \"Topic2\", \"Topic2\", \"Topic2\", \"Topic2\", \"Topic2\", \"Topic2\", \"Topic2\", \"Topic2\", \"Topic2\", \"Topic2\", \"Topic2\", \"Topic2\", \"Topic2\", \"Topic2\", \"Topic2\", \"Topic2\", \"Topic2\", \"Topic2\", \"Topic2\", \"Topic2\", \"Topic2\", \"Topic2\", \"Topic2\", \"Topic2\", \"Topic2\", \"Topic2\", \"Topic2\", \"Topic2\", \"Topic2\", \"Topic2\", \"Topic2\", \"Topic2\", \"Topic2\", \"Topic2\", \"Topic3\", \"Topic3\", \"Topic3\", \"Topic3\", \"Topic3\", \"Topic3\", \"Topic3\", \"Topic3\", \"Topic3\", \"Topic3\", \"Topic3\", \"Topic3\", \"Topic3\", \"Topic3\", \"Topic3\", \"Topic3\", \"Topic3\", \"Topic3\", \"Topic3\", \"Topic3\", \"Topic3\", \"Topic3\", \"Topic3\", \"Topic3\", \"Topic3\", \"Topic3\", \"Topic3\", \"Topic3\", \"Topic3\", \"Topic3\", \"Topic3\", \"Topic3\", \"Topic3\", \"Topic3\", \"Topic3\", \"Topic3\", \"Topic3\", \"Topic3\", \"Topic3\", \"Topic3\", \"Topic3\", \"Topic3\", \"Topic3\", \"Topic3\", \"Topic3\", \"Topic3\", \"Topic3\", \"Topic3\", \"Topic3\", \"Topic3\", \"Topic3\", \"Topic3\", \"Topic3\", \"Topic3\", \"Topic3\", \"Topic3\", \"Topic3\", \"Topic3\", \"Topic3\", \"Topic3\", \"Topic3\", \"Topic3\", \"Topic3\", \"Topic3\", \"Topic3\", \"Topic3\", \"Topic3\", \"Topic3\", \"Topic3\", \"Topic3\", \"Topic4\", \"Topic4\", \"Topic4\", \"Topic4\", \"Topic4\", \"Topic4\", \"Topic4\", \"Topic4\", \"Topic4\", \"Topic4\", \"Topic4\", \"Topic4\", \"Topic4\", \"Topic4\", \"Topic4\", \"Topic4\", \"Topic4\", \"Topic4\", \"Topic4\", \"Topic4\", \"Topic4\", \"Topic4\", \"Topic4\", \"Topic4\", \"Topic4\", \"Topic4\", \"Topic4\", \"Topic4\", \"Topic4\", \"Topic4\", \"Topic4\", \"Topic4\", \"Topic4\", \"Topic4\", \"Topic4\", \"Topic4\", \"Topic4\", \"Topic4\", \"Topic4\", \"Topic4\", \"Topic4\", \"Topic4\", \"Topic4\", \"Topic4\", \"Topic4\", \"Topic4\", \"Topic4\", \"Topic4\", \"Topic4\", \"Topic4\", \"Topic4\", \"Topic4\", \"Topic4\", \"Topic4\", \"Topic4\", \"Topic4\", \"Topic4\", \"Topic4\", \"Topic4\", \"Topic4\", \"Topic4\", \"Topic4\", \"Topic4\", \"Topic4\", \"Topic4\", \"Topic5\", \"Topic5\", \"Topic5\", \"Topic5\", \"Topic5\", \"Topic5\", \"Topic5\", \"Topic5\", \"Topic5\", \"Topic5\", \"Topic5\", \"Topic5\", \"Topic5\", \"Topic5\", \"Topic5\", \"Topic5\", \"Topic5\", \"Topic5\", \"Topic5\", \"Topic5\", \"Topic5\", \"Topic5\", \"Topic5\", \"Topic5\", \"Topic5\", \"Topic5\", \"Topic5\", \"Topic5\", \"Topic5\", \"Topic5\", \"Topic5\", \"Topic5\", \"Topic5\", \"Topic5\", \"Topic5\", \"Topic5\", \"Topic5\", \"Topic5\", \"Topic5\", \"Topic5\", \"Topic5\", \"Topic5\", \"Topic5\", \"Topic5\", \"Topic5\", \"Topic5\", \"Topic5\", \"Topic5\", \"Topic5\", \"Topic5\", \"Topic5\", \"Topic5\", \"Topic5\", \"Topic5\", \"Topic5\", \"Topic5\", \"Topic5\", \"Topic6\", \"Topic6\", \"Topic6\", \"Topic6\", \"Topic6\", \"Topic6\", \"Topic6\", \"Topic6\", \"Topic6\", \"Topic6\", \"Topic6\", \"Topic6\", \"Topic6\", \"Topic6\", \"Topic6\", \"Topic6\", \"Topic6\", \"Topic6\", \"Topic6\", \"Topic6\", \"Topic6\", \"Topic6\", \"Topic6\", \"Topic6\", \"Topic6\", \"Topic6\", \"Topic6\", \"Topic6\", \"Topic6\", \"Topic6\", \"Topic6\", \"Topic6\", \"Topic6\", \"Topic6\", \"Topic6\", \"Topic6\", \"Topic6\", \"Topic6\", \"Topic6\", \"Topic6\", \"Topic6\", \"Topic6\", \"Topic6\", \"Topic6\", \"Topic6\", \"Topic6\", \"Topic6\", \"Topic6\", \"Topic6\", \"Topic6\", \"Topic6\", \"Topic6\", \"Topic6\", \"Topic6\", \"Topic6\", \"Topic6\", \"Topic6\", \"Topic6\", \"Topic6\", \"Topic6\", \"Topic7\", \"Topic7\", \"Topic7\", \"Topic7\", \"Topic7\", \"Topic7\", \"Topic7\", \"Topic7\", \"Topic7\", \"Topic7\", \"Topic7\", \"Topic7\", \"Topic7\", \"Topic7\", \"Topic7\", \"Topic7\", \"Topic7\", \"Topic7\", \"Topic7\", \"Topic7\", \"Topic7\", \"Topic7\", \"Topic7\", \"Topic7\", \"Topic7\", \"Topic7\", \"Topic7\", \"Topic7\", \"Topic7\", \"Topic7\", \"Topic7\", \"Topic7\", \"Topic7\", \"Topic7\", \"Topic7\", \"Topic7\", \"Topic7\", \"Topic7\", \"Topic7\", \"Topic7\", \"Topic7\", \"Topic7\", \"Topic7\", \"Topic7\", \"Topic7\", \"Topic7\", \"Topic7\", \"Topic7\", \"Topic7\", \"Topic7\", \"Topic7\", \"Topic8\", \"Topic8\", \"Topic8\", \"Topic8\", \"Topic8\", \"Topic8\", \"Topic8\", \"Topic8\", \"Topic8\", \"Topic8\", \"Topic8\", \"Topic8\", \"Topic8\", \"Topic8\", \"Topic8\", \"Topic8\", \"Topic8\", \"Topic8\", \"Topic8\", \"Topic8\", \"Topic8\", \"Topic8\", \"Topic8\", \"Topic8\", \"Topic8\", \"Topic8\", \"Topic8\", \"Topic8\", \"Topic8\", \"Topic8\", \"Topic8\", \"Topic8\", \"Topic8\", \"Topic8\", \"Topic8\", \"Topic8\", \"Topic8\", \"Topic8\", \"Topic8\", \"Topic8\", \"Topic8\", \"Topic8\", \"Topic8\", \"Topic8\", \"Topic8\", \"Topic8\", \"Topic8\", \"Topic8\", \"Topic8\", \"Topic8\", \"Topic8\", \"Topic8\", \"Topic8\", \"Topic9\", \"Topic9\", \"Topic9\", \"Topic9\", \"Topic9\", \"Topic9\", \"Topic9\", \"Topic9\", \"Topic9\", \"Topic9\", \"Topic9\", \"Topic9\", \"Topic9\", \"Topic9\", \"Topic9\", \"Topic9\", \"Topic9\", \"Topic9\", \"Topic9\", \"Topic9\", \"Topic9\", \"Topic9\", \"Topic9\", \"Topic9\", \"Topic9\", \"Topic9\", \"Topic9\", \"Topic9\", \"Topic9\", \"Topic9\", \"Topic9\", \"Topic9\", \"Topic9\", \"Topic9\", \"Topic9\", \"Topic9\", \"Topic9\", \"Topic9\", \"Topic9\", \"Topic9\", \"Topic9\", \"Topic9\", \"Topic9\", \"Topic9\", \"Topic9\", \"Topic9\", \"Topic9\", \"Topic10\", \"Topic10\", \"Topic10\", \"Topic10\", \"Topic10\", \"Topic10\", \"Topic10\", \"Topic10\", \"Topic10\", \"Topic10\", \"Topic10\", \"Topic10\", \"Topic10\", \"Topic10\", \"Topic10\", \"Topic10\", \"Topic10\", \"Topic10\", \"Topic10\", \"Topic10\", \"Topic10\", \"Topic10\", \"Topic10\", \"Topic10\", \"Topic10\", \"Topic10\", \"Topic10\", \"Topic10\", \"Topic10\", \"Topic10\", \"Topic10\", \"Topic10\", \"Topic10\", \"Topic10\", \"Topic10\", \"Topic10\", \"Topic10\", \"Topic10\", \"Topic10\", \"Topic10\", \"Topic10\", \"Topic10\", \"Topic10\", \"Topic10\", \"Topic10\", \"Topic10\", \"Topic10\", \"Topic10\", \"Topic10\", \"Topic10\", \"Topic10\", \"Topic10\", \"Topic10\", \"Topic10\", \"Topic10\", \"Topic10\", \"Topic10\", \"Topic10\"]}, \"topic.order\": [9, 6, 4, 8, 5, 10, 3, 7, 1, 2], \"lambda.step\": 0.01, \"token.table\": {\"Term\": [\",\\u300c\", \",\\u300c\", \",\\u300c\", \",\\u300c\", \"--\", \"17\", \"17\", \"17\", \"17\", \"17\", \"19\", \"19\", \"19\", \"1960\", \"2005\", \"<\", \"<\", \"<\", \"<\", \">\", \">\", \">\", \"C\", \"C\", \"G\", \"P\", \"S\", \"p\", \"\\u3046\\u308b\", \"\\u307f\\u308b\", \"\\u307f\\u308b\", \"\\u307f\\u308b\", \"\\u307f\\u308b\", \"\\u307f\\u308b\", \"\\u30a2\\u30a4\\u30c7\\u30f3\\u30c6\\u30a3\\u30c6\\u30a3\", \"\\u30a2\\u30c9\\u30eb\\u30ce\", \"\\u30a2\\u30ea\\u30b9\\u30c8\\u30c6\\u30ec\\u30b9\", \"\\u30a4\\u30b3\\u30f3\", \"\\u30a4\\u30b9\\u30e9\\u30fc\\u30e0\", \"\\u30a4\\u30b9\\u30e9\\u30fc\\u30e0\", \"\\u30a4\\u30f3\\u30c9\", \"\\u30a4\\u30f3\\u30c9\", \"\\u30aa\\u30ea\\u30a8\\u30f3\\u30c8\", \"\\u30ab\\u30f3\\u30c8\", \"\\u30ac\\u30f3\\u30c0\\u30fc\\u30e9\", \"\\u30ad\\u30ea\\u30b9\\u30c8\", \"\\u30ad\\u30ea\\u30b9\\u30c8\", \"\\u30ad\\u30ea\\u30b9\\u30c8\", \"\\u30ad\\u30ea\\u30b9\\u30c8\\u6559\", \"\\u30b0\\u30ed\\u30fc\\u30d0\\u30eb\", \"\\u30b1\\u30a2\", \"\\u30b3\\u30ca\\u30c8\\u30a5\\u30b9\", \"\\u30b3\\u30df\\u30e5\\u30cb\\u30b1\\u30fc\\u30b7\\u30e7\\u30f3\", \"\\u30b4\\u30b7\\u30c3\\u30af\", \"\\u30b5\\u30f3\\u30b9\\u30af\\u30ea\\u30c3\\u30c8\", \"\\u30b7\\u30a8\\u30ca\", \"\\u30b7\\u30e5\\u30bf\\u30a4\\u30f3\", \"\\u30b7\\u30f3\\u30dd\\u30b8\\u30a6\\u30e0\", \"\\u30b8\\u30a7\\u30f3\\u30c0\\u30fc\", \"\\u30b8\\u30e3\", \"\\u30b9\\u30d4\\u30ce\\u30b6\", \"\\u30b9\\u30ea\\u30e9\\u30f3\\u30ab\", \"\\u30c1\\u30a7\\u30b3\", \"\\u30c1\\u30d9\\u30c3\\u30c8\", \"\\u30c6\\u30ad\\u30b9\\u30c8\", \"\\u30c6\\u30ad\\u30b9\\u30c8\", \"\\u30c6\\u30ad\\u30b9\\u30c8\", \"\\u30c6\\u30ad\\u30b9\\u30c8\", \"\\u30c7\\u30ea\\u30c0\", \"\\u30c7\\u30ea\\u30c0\", \"\\u30c7\\u30fc\\u30bf\", \"\\u30c7\\u30fc\\u30bf\", \"\\u30c7\\u30fc\\u30bf\", \"\\u30c7\\u30fc\\u30bf\", \"\\u30ca\\u30b7\\u30e7\\u30ca\\u30ea\\u30ba\\u30e0\", \"\\u30cf\\u30a4\\u30c7\\u30ac\\u30fc\", \"\\u30d1\\u30ce\\u30e9\\u30de\", \"\\u30d1\\u30ea\", \"\\u30d1\\u30fc\\u30ea\", \"\\u30d5\\u30a3\\u30eb\\u30e0\", \"\\u30d5\\u30a3\\u30eb\\u30e0\", \"\\u30d5\\u30a7\\u30df\\u30cb\\u30ba\\u30e0\", \"\\u30d5\\u30e9\\u30f3\\u30b9\", \"\\u30d5\\u30e9\\u30f3\\u30b9\", \"\\u30d5\\u30e9\\u30f3\\u30b9\", \"\\u30d7\\u30e9\\u30c8\\u30f3\", \"\\u30d8\\u30fc\\u30b2\\u30eb\", \"\\u30d9\\u30f3\\u30e4\\u30df\\u30f3\", \"\\u30dd\\u30ea\\u30b9\", \"\\u30de\\u30f3\", \"\\u30df\\u30b5\", \"\\u30df\\u30eb\", \"\\u30e1\\u30c7\\u30a3\\u30a2\", \"\\u30e1\\u30c7\\u30a3\\u30a2\", \"\\u30e1\\u30c7\\u30a3\\u30a2\", \"\\u30e2\\u30c0\\u30cb\\u30ba\\u30e0\", \"\\u30e2\\u30c6\\u30a3\\u30fc\\u30d5\", \"\\u30e2\\u30c6\\u30a3\\u30fc\\u30d5\", \"\\u30e6\\u30c0\\u30e4\", \"\\u30e8\\u30fc\\u30ed\\u30c3\\u30d1\", \"\\u30e8\\u30fc\\u30ed\\u30c3\\u30d1\", \"\\u30e9\\u30a4\\u30d7\\u30cb\\u30c3\\u30c4\", \"\\u30e9\\u30a4\\u30d7\\u30cb\\u30c3\\u30c4\", \"\\u30ec\\u30d1\\u30fc\\u30c8\\u30ea\\u30fc\", \"\\u30ed\\u30b7\\u30a2\", \"\\u30ed\\u30de\\u30f3\", \"\\u30f4\\u30a7\\u30fc\\u30c0\", \"\\u30f6\\u6240\", \"\\u4e00\\u90e8\", \"\\u4e00\\u90e8\", \"\\u4e00\\u90e8\", \"\\u4e00\\u90e8\", \"\\u4e07\", \"\\u4e0a\", \"\\u4e0a\", \"\\u4e0a\", \"\\u4e0a\", \"\\u4e0a\", \"\\u4e0a\", \"\\u4e0a\", \"\\u4e16\\u4fd7\", \"\\u4e16\\u754c\", \"\\u4e16\\u754c\", \"\\u4e16\\u754c\", \"\\u4e16\\u754c\", \"\\u4e16\\u7d00\", \"\\u4e16\\u7d00\", \"\\u4e16\\u7d00\", \"\\u4e16\\u7d00\", \"\\u4e16\\u7d00\", \"\\u4e2d\", \"\\u4e2d\", \"\\u4e2d\", \"\\u4e2d\", \"\\u4e2d\", \"\\u4e2d\\u4e95\", \"\\u4e2d\\u56fd\", \"\\u4e2d\\u56fd\", \"\\u4e2d\\u56fd\", \"\\u4e2d\\u56fd\", \"\\u4e2d\\u56fd\", \"\\u4e2d\\u56fd\", \"\\u4e2d\\u592e\\u30a2\\u30b8\\u30a2\", \"\\u4e2d\\u5eb8\", \"\\u4e2d\\u5fc3\", \"\\u4e2d\\u5fc3\", \"\\u4e2d\\u5fc3\", \"\\u4e2d\\u5fc3\", \"\\u4e2d\\u5fc3\", \"\\u4e2d\\u5fc3\", \"\\u4e3b\\u5f35\", \"\\u4e88\\u5b9a\", \"\\u4e88\\u5b9a\", \"\\u4e88\\u5b9a\", \"\\u4eac\\u90fd\", \"\\u4eac\\u90fd\", \"\\u4eba\", \"\\u4eba\", \"\\u4eba\", \"\\u4eba\", \"\\u4eba\", \"\\u4eba\", \"\\u4eba\\u7269\", \"\\u4eba\\u7269\", \"\\u4eba\\u9593\", \"\\u4eca\\u5f8c\", \"\\u4eca\\u5f8c\", \"\\u4eca\\u5f8c\", \"\\u4eca\\u5f8c\", \"\\u4ecb\\u8b77\", \"\\u4ecf\", \"\\u4ecf\", \"\\u4ecf\", \"\\u4ecf\\u50cf\", \"\\u4ecf\\u5178\", \"\\u4ecf\\u6559\", \"\\u4ecf\\u6559\", \"\\u4ecf\\u6559\", \"\\u4ed6\\u8005\", \"\\u4ee3\", \"\\u4ee3\\u8868\", \"\\u4ee3\\u8868\", \"\\u4ee3\\u8868\", \"\\u4ee3\\u8868\", \"\\u4ee3\\u8868\", \"\\u4ef6\", \"\\u4f1a\", \"\\u4f1a\", \"\\u4f1a\", \"\\u4f1d\\u627f\", \"\\u4f1d\\u627f\", \"\\u4f1d\\u627f\", \"\\u4f1d\\u6388\", \"\\u4f1d\\u7d71\", \"\\u4f1d\\u7d71\", \"\\u4f1d\\u7d71\", \"\\u4f1d\\u7d71\", \"\\u4f1d\\u7d71\", \"\\u4f5c\\u4f8b\", \"\\u4f5c\\u54c1\", \"\\u4f5c\\u54c1\", \"\\u4f5c\\u54c1\", \"\\u4f5c\\u54c1\", \"\\u4f5c\\u6210\", \"\\u4f5c\\u6210\", \"\\u4f5c\\u6210\", \"\\u4f5c\\u6210\", \"\\u4f5c\\u66f2\", \"\\u4f5c\\u66f2\", \"\\u4f7f\\u7528\", \"\\u4f7f\\u7528\", \"\\u4f7f\\u7528\", \"\\u4f7f\\u7528\", \"\\u4f7f\\u7528\", \"\\u4f9b\\u990a\", \"\\u4fc3\\u3059\", \"\\u4fe1\\u4ef0\", \"\\u4fe1\\u4ef0\", \"\\u4fe1\\u4ef0\", \"\\u4fee\\u5fa9\", \"\\u4fee\\u884c\", \"\\u4fee\\u9053\", \"\\u502b\\u7406\", \"\\u5065\\u5eb7\", \"\\u50cf\", \"\\u50cf\", \"\\u50cf\", \"\\u50cf\", \"\\u50e7\", \"\\u5100\\u5f0f\", \"\\u5100\\u793c\", \"\\u5100\\u793c\", \"\\u5112\\u6559\", \"\\u5112\\u6559\", \"\\u512a\\u751f\", \"\\u5148\\u4f4f\\u6c11\", \"\\u5168\\u4f53\", \"\\u5168\\u4f53\", \"\\u5168\\u4f53\", \"\\u5168\\u4f53\", \"\\u5168\\u4f53\", \"\\u5168\\u4f53\", \"\\u516c\\u958b\", \"\\u516c\\u958b\", \"\\u5171\\u540c\", \"\\u5171\\u540c\", \"\\u5171\\u540c\", \"\\u5171\\u540c\", \"\\u5171\\u751f\", \"\\u5177\\u4f53\", \"\\u5177\\u4f53\", \"\\u5177\\u4f53\", \"\\u5177\\u4f53\", \"\\u5177\\u4f53\", \"\\u5177\\u4f53\", \"\\u5177\\u4f53\", \"\\u5185\\u5bb9\", \"\\u5185\\u5bb9\", \"\\u5185\\u5bb9\", \"\\u5185\\u5bb9\", \"\\u5185\\u5bb9\", \"\\u518d\\u73fe\", \"\\u518d\\u751f\", \"\\u518d\\u8003\", \"\\u5199\\u672c\", \"\\u5199\\u771f\", \"\\u5199\\u771f\", \"\\u5199\\u771f\", \"\\u5199\\u771f\", \"\\u51fa\\u6765\\u4e8b\", \"\\u51fa\\u6765\\u4e8b\", \"\\u51fa\\u7248\", \"\\u51fa\\u7248\", \"\\u51fa\\u7248\", \"\\u51fa\\u751f\", \"\\u5206\\u62c5\", \"\\u5206\\u62c5\", \"\\u5206\\u62c5\", \"\\u5206\\u62c5\", \"\\u5206\\u6790\", \"\\u5206\\u6790\", \"\\u5206\\u6790\", \"\\u5206\\u6790\", \"\\u5206\\u6790\", \"\\u5206\\u6790\", \"\\u5206\\u6790\", \"\\u5206\\u6790\", \"\\u520a\\u672c\", \"\\u520a\\u884c\", \"\\u520a\\u884c\", \"\\u521d\\u671f\", \"\\u521d\\u671f\", \"\\u521d\\u671f\", \"\\u521d\\u671f\", \"\\u5236\\u4f5c\", \"\\u5236\\u4f5c\", \"\\u5236\\u4f5c\", \"\\u5236\\u4f5c\", \"\\u5236\\u4f5c\", \"\\u523b\", \"\\u52b4\\u50cd\", \"\\u52d5\\u7269\", \"\\u52d5\\u7269\", \"\\u5317\", \"\\u5317\", \"\\u5317\\u4eac\", \"\\u533b\\u7642\", \"\\u5341\", \"\\u5341\", \"\\u5341\", \"\\u5341\", \"\\u5343\", \"\\u5354\\u529b\", \"\\u5354\\u529b\", \"\\u5357\\u5317\", \"\\u5358\", \"\\u53cb\\u611b\", \"\\u53ce\\u96c6\", \"\\u53ce\\u96c6\", \"\\u53ce\\u96c6\", \"\\u53ce\\u96c6\", \"\\u53d7\\u5bb9\", \"\\u53d7\\u5bb9\", \"\\u53d7\\u5bb9\", \"\\u53d7\\u5bb9\", \"\\u53d7\\u5bb9\", \"\\u53e3\\u982d\", \"\\u53e4\\u3044\", \"\\u53f2\", \"\\u53f2\", \"\\u53f2\", \"\\u53f2\", \"\\u5408\\u5531\", \"\\u5408\\u610f\", \"\\u5408\\u7406\", \"\\u540c\\u66f8\", \"\\u540d\", \"\\u540d\", \"\\u540d\", \"\\u548c\\u8a33\", \"\\u54c1\", \"\\u54f2\\u5b66\", \"\\u5510\", \"\\u5510\", \"\\u5531\\u6b4c\", \"\\u5546\\u4eba\", \"\\u5553\\u8499\", \"\\u56db\\u56fd\", \"\\u56db\\u56fd\", \"\\u56de\", \"\\u56f3\", \"\\u56f3\\u50cf\", \"\\u56f3\\u50cf\", \"\\u56f3\\u50cf\", \"\\u56f3\\u50cf\", \"\\u56f3\\u66f8\\u9928\", \"\\u56fd\\u5185\", \"\\u56fd\\u5b66\", \"\\u56fd\\u5bb6\", \"\\u56fd\\u5bb6\", \"\\u56fd\\u5bb6\", \"\\u56fd\\u6587\\u5b66\", \"\\u56fd\\u6c11\", \"\\u56fd\\u969b\", \"\\u56fd\\u969b\", \"\\u5728\\u5b85\", \"\\u5730\\u57df\", \"\\u5730\\u57df\", \"\\u5730\\u57df\", \"\\u5730\\u57df\", \"\\u5750\\u50cf\", \"\\u57fa\\u790e\", \"\\u57fa\\u790e\", \"\\u57fa\\u790e\", \"\\u57fa\\u790e\", \"\\u5802\", \"\\u5831\\u544a\", \"\\u5831\\u544a\", \"\\u5831\\u544a\", \"\\u5831\\u544a\", \"\\u58c1\\u753b\", \"\\u58f0\\u805e\", \"\\u5927\\u4e57\", \"\\u5927\\u4e57\", \"\\u5927\\u4e57\", \"\\u5927\\u540c\", \"\\u5927\\u5b66\", \"\\u5927\\u5b66\", \"\\u5927\\u5e2b\", \"\\u5929\\u5730\", \"\\u5951\", \"\\u5973\\u6027\", \"\\u5b57\", \"\\u5b58\\u5728\", \"\\u5b58\\u5728\", \"\\u5b58\\u5728\", \"\\u5b58\\u5728\", \"\\u5b58\\u5728\", \"\\u5b58\\u5728\", \"\\u5b5d\", \"\\u5b66\", \"\\u5b66\", \"\\u5b66\", \"\\u5b66\", \"\\u5b66\", \"\\u5b66\\u4f1a\", \"\\u5b66\\u4f1a\", \"\\u5b66\\u8aac\", \"\\u5b97\\u6559\", \"\\u5b97\\u6559\", \"\\u5b97\\u6559\", \"\\u5b97\\u6559\", \"\\u5b9f\\u4f53\", \"\\u5b9f\\u65bd\", \"\\u5b9f\\u65bd\", \"\\u5b9f\\u65bd\", \"\\u5b9f\\u65bd\", \"\\u5b9f\\u65bd\", \"\\u5b9f\\u8df5\", \"\\u5b9f\\u8df5\", \"\\u5b9f\\u8df5\", \"\\u5b9f\\u8df5\", \"\\u5bb6\", \"\\u5bb6\", \"\\u5bb6\", \"\\u5bb6\", \"\\u5bb6\\u65cf\", \"\\u5bb6\\u65cf\", \"\\u5bc6\\u6559\", \"\\u5bfa\", \"\\u5bfe\\u8c61\", \"\\u5bfe\\u8c61\", \"\\u5bfe\\u8c61\", \"\\u5bfe\\u8c61\", \"\\u5bfe\\u8c61\", \"\\u5bfe\\u8c61\", \"\\u5c0a\", \"\\u5c55\\u793a\", \"\\u5c55\\u793a\", \"\\u5c55\\u793a\", \"\\u5c55\\u89a7\", \"\\u5c55\\u958b\", \"\\u5c55\\u958b\", \"\\u5c55\\u958b\", \"\\u5c55\\u958b\", \"\\u5c55\\u958b\", \"\\u5c55\\u958b\", \"\\u5c64\", \"\\u5c64\", \"\\u5c65\\u8ed2\", \"\\u5c71\", \"\\u5c71\\u6771\", \"\\u5de1\\u793c\", \"\\u5dfb\", \"\\u5dfb\", \"\\u5dfb\", \"\\u5dfb\", \"\\u5e1d\\u56fd\", \"\\u5e73\\u4e95\", \"\\u5e73\\u6210\", \"\\u5e73\\u6210\", \"\\u5e73\\u6210\", \"\\u5e73\\u6210\", \"\\u5e73\\u6210\", \"\\u5e74\", \"\\u5e74\", \"\\u5e74\", \"\\u5e74\", \"\\u5e74\\u9593\", \"\\u5e74\\u9593\", \"\\u5e74\\u9593\", \"\\u5e83\\u544a\", \"\\u5f15\\u7528\", \"\\u5f1f\\u5b50\", \"\\u5f53\\u6642\", \"\\u5f53\\u6642\", \"\\u5f53\\u6642\", \"\\u5f53\\u6642\", \"\\u5f53\\u6642\", \"\\u5f62\\u6210\", \"\\u5f62\\u6210\", \"\\u5f62\\u6210\", \"\\u5f62\\u6210\", \"\\u5f62\\u800c\\u4e0a\\u5b66\", \"\\u5f62\\u8c61\", \"\\u5f69\\u8272\", \"\\u5f6b\\u523b\", \"\\u5f6b\\u523b\", \"\\u5f6b\\u523b\", \"\\u5f71\\u97ff\", \"\\u5f71\\u97ff\", \"\\u5f71\\u97ff\", \"\\u5f71\\u97ff\", \"\\u5f71\\u97ff\", \"\\u5f71\\u97ff\", \"\\u5f79\\u5272\", \"\\u5f79\\u5272\", \"\\u5f79\\u5272\", \"\\u5f7c\\u3089\", \"\\u5f7c\\u3089\", \"\\u5f7c\\u3089\", \"\\u5f93\\u6765\", \"\\u5f93\\u6765\", \"\\u5f93\\u6765\", \"\\u5f93\\u6765\", \"\\u5f93\\u6765\", \"\\u5f93\\u6765\", \"\\u5f93\\u6765\", \"\\u5fa9\\u5143\", \"\\u5fa9\\u5143\", \"\\u5fa9\\u5143\", \"\\u5fc3\", \"\\u5fc3\\u7406\", \"\\u5fdc\\u7528\", \"\\u5ff5\", \"\\u601d\\u60f3\", \"\\u601d\\u60f3\", \"\\u601d\\u60f3\", \"\\u601d\\u60f3\", \"\\u601d\\u60f3\", \"\\u601d\\u60f3\\u5bb6\", \"\\u601d\\u60f3\\u5bb6\", \"\\u601d\\u8003\", \"\\u601d\\u8003\", \"\\u610f\\u5473\", \"\\u610f\\u5473\", \"\\u610f\\u5473\", \"\\u610f\\u5473\", \"\\u610f\\u5473\", \"\\u610f\\u5473\", \"\\u610f\\u5473\", \"\\u610f\\u898b\", \"\\u611f\\u60c5\", \"\\u611f\\u899a\", \"\\u6167\", \"\\u61d0\", \"\\u6210\", \"\\u6210\\u7acb\", \"\\u6210\\u7acb\", \"\\u6210\\u7acb\", \"\\u6210\\u7acb\", \"\\u6226\\u56fd\", \"\\u6240\\u6709\", \"\\u6279\\u5224\", \"\\u6279\\u5224\", \"\\u6279\\u5224\", \"\\u6280\\u6cd5\", \"\\u6280\\u6cd5\", \"\\u63b2\\u8f09\", \"\\u63b2\\u8f09\", \"\\u63cf\\u304f\", \"\\u63cf\\u304f\", \"\\u63cf\\u304f\", \"\\u63cf\\u304f\", \"\\u6539\\u9769\", \"\\u653f\\u6cbb\", \"\\u653f\\u6cbb\", \"\\u653f\\u6cbb\", \"\\u6559\", \"\\u6559\", \"\\u6559\", \"\\u6559\\u56e3\", \"\\u6559\\u6388\", \"\\u6559\\u7956\", \"\\u6559\\u990a\", \"\\u6559\\u990a\", \"\\u6587\", \"\\u6587\", \"\\u6587\", \"\\u6587\", \"\\u6587\\u4eba\", \"\\u6587\\u5316\", \"\\u6587\\u5316\", \"\\u6587\\u5316\", \"\\u6587\\u5316\", \"\\u6587\\u5316\", \"\\u6587\\u660e\", \"\\u6587\\u69d8\", \"\\u6587\\u732e\", \"\\u6587\\u732e\", \"\\u6587\\u732e\", \"\\u6587\\u732e\", \"\\u6587\\u732e\", \"\\u6587\\u732e\", \"\\u6587\\u732e\", \"\\u65b0\\u305f\", \"\\u65b0\\u305f\", \"\\u65b0\\u305f\", \"\\u65b0\\u305f\", \"\\u65b0\\u305f\", \"\\u65b0\\u305f\", \"\\u65b0\\u305f\", \"\\u65e5\", \"\\u65e5\", \"\\u65e5\", \"\\u65e5\\u672c\", \"\\u65e5\\u672c\", \"\\u65e5\\u672c\", \"\\u65e5\\u672c\", \"\\u65e5\\u672c\", \"\\u6620\\u50cf\", \"\\u6620\\u50cf\", \"\\u6620\\u753b\", \"\\u6625\\u79cb\", \"\\u6642\\u4ee3\", \"\\u6642\\u4ee3\", \"\\u6642\\u4ee3\", \"\\u6642\\u4ee3\", \"\\u6642\\u4ee3\", \"\\u6642\\u4ee3\", \"\\u6642\\u9593\", \"\\u6642\\u9593\", \"\\u6642\\u9593\", \"\\u666f\", \"\\u666f\\u89b3\", \"\\u666f\\u89b3\", \"\\u667a\", \"\\u6700\\u65b0\", \"\\u6708\", \"\\u671d\\u9bae\", \"\\u671d\\u9bae\", \"\\u671f\", \"\\u671f\", \"\\u671f\", \"\\u671f\", \"\\u671f\", \"\\u671f\", \"\\u6728\\u5f6b\", \"\\u672a\\u6765\", \"\\u672a\\u6765\", \"\\u672c\", \"\\u672c\", \"\\u672c\\u571f\", \"\\u672c\\u66f8\", \"\\u672c\\u66f8\", \"\\u6731\", \"\\u6750\\u6599\", \"\\u6771\\u30a2\\u30b8\\u30a2\", \"\\u6771\\u30a2\\u30b8\\u30a2\", \"\\u6771\\u30a2\\u30b8\\u30a2\", \"\\u6771\\u5357\", \"\\u67d3\\u7e54\", \"\\u6821\\u52d8\", \"\\u6821\\u8a02\", \"\\u6839\\u62e0\", \"\\u690d\\u6c11\", \"\\u695a\", \"\\u697d\\u5668\", \"\\u6982\\u5ff5\", \"\\u6982\\u5ff5\", \"\\u69cb\\u9020\", \"\\u69cb\\u9020\", \"\\u69cb\\u9020\", \"\\u69cb\\u9020\", \"\\u69d8\\u5f0f\", \"\\u69d8\\u5f0f\", \"\\u69d8\\u5f0f\", \"\\u69d8\\u614b\", \"\\u6a5f\\u68b0\", \"\\u6a5f\\u68b0\", \"\\u6a5f\\u95a2\", \"\\u6b63\\u7d71\", \"\\u6b63\\u7d71\", \"\\u6b74\\u53f2\", \"\\u6b74\\u53f2\", \"\\u6b74\\u53f2\", \"\\u6b74\\u53f2\", \"\\u6b74\\u53f2\", \"\\u6b7b\", \"\\u6b7b\", \"\\u6b7b\\u751f\", \"\\u6bb5\\u968e\", \"\\u6bb5\\u968e\", \"\\u6bb5\\u968e\", \"\\u6bb5\\u968e\", \"\\u6bb5\\u968e\", \"\\u6bcd\\u6027\", \"\\u6bd4\\u8f03\", \"\\u6bd4\\u8f03\", \"\\u6bd4\\u8f03\", \"\\u6bd4\\u8f03\", \"\\u6bd4\\u8f03\", \"\\u6bd4\\u8f03\", \"\\u6bd4\\u8f03\", \"\\u6c11\\u65cf\", \"\\u6c17\", \"\\u6c5f\\u6238\", \"\\u6c5f\\u6238\", \"\\u6c5f\\u6238\", \"\\u6c96\\u7e04\", \"\\u6c96\\u7e04\", \"\\u6c96\\u7e04\", \"\\u6ce8\", \"\\u6ce8\", \"\\u6ce8\\u6587\", \"\\u6ce8\\u91c8\", \"\\u6ce8\\u91c8\", \"\\u6d1e\", \"\\u6d3b\\u52d5\", \"\\u6d3b\\u52d5\", \"\\u6d3b\\u52d5\", \"\\u6d3b\\u52d5\", \"\\u6d44\\u571f\", \"\\u6d44\\u571f\", \"\\u6d77\", \"\\u6d77\\u5916\", \"\\u6d77\\u5916\", \"\\u6edd\\u6ca2\", \"\\u6f14\\u594f\", \"\\u6f22\", \"\\u6f22\", \"\\u6f22\", \"\\u713c\\u6210\", \"\\u7269\\u4f53\", \"\\u7269\\u8a9e\", \"\\u7269\\u8a9e\", \"\\u7269\\u8a9e\", \"\\u7279\\u5fb4\", \"\\u7279\\u5fb4\", \"\\u7279\\u5fb4\", \"\\u7279\\u5fb4\", \"\\u7279\\u5fb4\", \"\\u7279\\u5fb4\", \"\\u7279\\u5fb4\", \"\\u72a0\\u7272\", \"\\u72b6\\u614b\", \"\\u72b6\\u614b\", \"\\u7384\", \"\\u738b\", \"\\u738b\", \"\\u738b\", \"\\u73fe\\u4ee3\", \"\\u73fe\\u4ee3\", \"\\u73fe\\u4ee3\", \"\\u73fe\\u8c61\", \"\\u73fe\\u8c61\", \"\\u73fe\\u8c61\", \"\\u7406\\u6027\", \"\\u7406\\u89e3\", \"\\u7406\\u89e3\", \"\\u7406\\u89e3\", \"\\u7406\\u89e3\", \"\\u7406\\u8ad6\", \"\\u7406\\u8ad6\", \"\\u751f\\u547d\", \"\\u751f\\u6c17\", \"\\u753b\", \"\\u753b\\u50cf\", \"\\u753b\\u50cf\", \"\\u753b\\u5bb6\", \"\\u753b\\u5bb6\", \"\\u753b\\u9762\", \"\\u753b\\u984c\", \"\\u7570\\u306a\\u308b\", \"\\u7570\\u306a\\u308b\", \"\\u7570\\u306a\\u308b\", \"\\u7570\\u306a\\u308b\", \"\\u7570\\u306a\\u308b\", \"\\u7570\\u306a\\u308b\", \"\\u7570\\u306a\\u308b\", \"\\u758f\", \"\\u75c5\\u9662\", \"\\u767a\\u660e\", \"\\u767a\\u884c\", \"\\u767a\\u898b\", \"\\u767a\\u898b\", \"\\u767a\\u898b\", \"\\u767a\\u898b\", \"\\u767d\", \"\\u767e\\u79d1\\u5168\\u66f8\", \"\\u7687\\u56fd\", \"\\u76db\\u3093\", \"\\u76f8\\u624b\", \"\\u7791\\u60f3\", \"\\u77e5\", \"\\u77e5\", \"\\u77e5\", \"\\u77e5\", \"\\u77e5\\u899a\", \"\\u77f3\\u7a9f\", \"\\u78ba\\u8a8d\", \"\\u78ba\\u8a8d\", \"\\u78ba\\u8a8d\", \"\\u78ba\\u8a8d\", \"\\u78ba\\u8a8d\", \"\\u78ba\\u8a8d\", \"\\u793c\", \"\\u793c\", \"\\u793e\\u4f1a\", \"\\u793e\\u4f1a\", \"\\u793e\\u4f1a\", \"\\u795e\", \"\\u795e\", \"\\u795e\\u4ecf\", \"\\u795e\\u50cf\", \"\\u795e\\u793e\", \"\\u795e\\u9053\", \"\\u7985\", \"\\u79d1\", \"\\u79d1\\u5b66\", \"\\u79d1\\u5b66\", \"\\u79d1\\u5b66\", \"\\u7a7a\", \"\\u7a7a\\u9593\", \"\\u7a7a\\u9593\", \"\\u7a7a\\u9593\", \"\\u7a7a\\u9593\", \"\\u7a7a\\u9593\", \"\\u7aaf\", \"\\u7ae0\", \"\\u7ae0\", \"\\u7ae0\", \"\\u7b46\\u6cd5\", \"\\u7b46\\u8005\", \"\\u7b87\\u6240\", \"\\u7b87\\u6240\", \"\\u7bc0\", \"\\u7bc7\", \"\\u7c56\\u672c\", \"\\u7d00\\u5143\", \"\\u7d4c\", \"\\u7d4c\", \"\\u7d4c\\u5178\", \"\\u7d75\", \"\\u7d75\\u5dfb\", \"\\u7d75\\u753b\", \"\\u7d75\\u753b\", \"\\u7de8\\u7e82\", \"\\u7de8\\u7e82\", \"\\u7de8\\u96c6\", \"\\u7e01\\u8d77\", \"\\u7f85\", \"\\u7f8e\\u5b66\", \"\\u7f8e\\u5b66\", \"\\u7f8e\\u5b66\", \"\\u7f8e\\u8853\", \"\\u7f8e\\u8853\", \"\\u7f8e\\u8853\", \"\\u7f8e\\u8853\", \"\\u7f8e\\u8853\\u9928\", \"\\u7f8e\\u8853\\u9928\", \"\\u7fa9\", \"\\u7fd2\\u6163\", \"\\u7ffb\\u6848\", \"\\u7ffb\\u8a33\", \"\\u7ffb\\u8a33\", \"\\u7ffb\\u8a33\", \"\\u7ffb\\u8a33\", \"\\u8001\\u5b50\", \"\\u8003\\u3048\\u308b\", \"\\u8003\\u3048\\u308b\", \"\\u8003\\u3048\\u308b\", \"\\u8003\\u3048\\u308b\", \"\\u8003\\u3048\\u308b\", \"\\u8003\\u3048\\u308b\", \"\\u8003\\u3048\\u308b\", \"\\u8003\\u3048\\u308b\", \"\\u8003\\u3048\\u308b\", \"\\u8003\\u5bdf\", \"\\u8003\\u5bdf\", \"\\u8003\\u5bdf\", \"\\u8003\\u5bdf\", \"\\u8003\\u5bdf\", \"\\u8003\\u5bdf\", \"\\u8003\\u5bdf\", \"\\u8003\\u5bdf\", \"\\u8005\", \"\\u8005\", \"\\u8005\", \"\\u8005\", \"\\u8056\\u5178\", \"\\u8056\\u5802\", \"\\u8056\\u5802\", \"\\u8056\\u66f8\", \"\\u8056\\u6bcd\", \"\\u81ea\\u5df1\", \"\\u81ea\\u5df1\", \"\\u81ea\\u7136\", \"\\u81ea\\u7136\", \"\\u81ea\\u9589\\u75c7\", \"\\u81f3\\u308b\", \"\\u81f3\\u308b\", \"\\u81f3\\u308b\", \"\\u81f3\\u308b\", \"\\u81f3\\u308b\", \"\\u81f3\\u308b\", \"\\u81f3\\u308b\", \"\\u82b1\", \"\\u82b8\\u8853\", \"\\u82b8\\u8853\", \"\\u82f1\\u56fd\", \"\\u82f1\\u56fd\", \"\\u82f1\\u56fd\", \"\\u82f1\\u6587\", \"\\u85dd\", \"\\u884c\\u70ba\", \"\\u8868\\u308f\\u3059\", \"\\u8868\\u73fe\", \"\\u8868\\u73fe\", \"\\u8868\\u73fe\", \"\\u8868\\u73fe\", \"\\u88fd\\u4f5c\", \"\\u88fd\\u54c1\", \"\\u897f\\u6b27\", \"\\u897f\\u6d0b\", \"\\u897f\\u6d0b\", \"\\u897f\\u6d0b\", \"\\u897f\\u6d0b\", \"\\u898b\\u308b\", \"\\u898b\\u308b\", \"\\u898b\\u308b\", \"\\u898b\\u308b\", \"\\u898b\\u308b\", \"\\u898b\\u308b\", \"\\u898b\\u308b\", \"\\u8996\\u899a\", \"\\u8996\\u899a\", \"\\u89aa\\u9e1e\", \"\\u89aa\\u9e1e\", \"\\u89b3\", \"\\u89b3\", \"\\u89b3\", \"\\u89b3\", \"\\u89b3\\u70b9\", \"\\u89b3\\u70b9\", \"\\u89b3\\u70b9\", \"\\u89b3\\u70b9\", \"\\u89e3\\u660e\", \"\\u89e3\\u660e\", \"\\u89e3\\u660e\", \"\\u89e3\\u660e\", \"\\u89e3\\u660e\", \"\\u89e3\\u660e\", \"\\u89e3\\u8aad\", \"\\u89e3\\u8aad\", \"\\u89e3\\u91c8\", \"\\u89e3\\u91c8\", \"\\u89e3\\u91c8\", \"\\u8a00\\u8a9e\", \"\\u8a00\\u8a9e\", \"\\u8a00\\u8aac\", \"\\u8a00\\u8aac\", \"\\u8a0e\\u8b70\", \"\\u8a0e\\u8b70\", \"\\u8a18\\u61b6\", \"\\u8a18\\u61b6\", \"\\u8a18\\u9332\", \"\\u8a18\\u9332\", \"\\u8a18\\u9332\", \"\\u8a18\\u9332\", \"\\u8a33\\u6ce8\", \"\\u8a33\\u6ce8\", \"\\u8a3b\\u91c8\", \"\\u8a71\\u3057\\u624b\", \"\\u8a8d\\u77e5\", \"\\u8a8d\\u8b58\", \"\\u8a8d\\u8b58\", \"\\u8a8d\\u8b58\", \"\\u8a8d\\u8b58\", \"\\u8a9e\", \"\\u8a9e\", \"\\u8a9e\", \"\\u8a9e\", \"\\u8a9e\\u5f59\", \"\\u8aa4\\u8b2c\", \"\\u8aac\\u304f\", \"\\u8aac\\u304f\", \"\\u8aac\\u6559\", \"\\u8aad\\u307f\\u89e3\\u304f\", \"\\u8ab2\\u984c\", \"\\u8ab2\\u984c\", \"\\u8ab2\\u984c\", \"\\u8ab2\\u984c\", \"\\u8ab2\\u984c\", \"\\u8ad6\", \"\\u8ad6\", \"\\u8ad6\", \"\\u8ad6\", \"\\u8ad6\", \"\\u8ad6\", \"\\u8ad6\\u3058\\u308b\", \"\\u8ad6\\u3058\\u308b\", \"\\u8ad6\\u3058\\u308b\", \"\\u8ad6\\u3058\\u308b\", \"\\u8ad6\\u7406\", \"\\u8ad6\\u7406\", \"\\u8ad6\\u8a3c\", \"\\u8ad6\\u8a3c\", \"\\u8ad6\\u8a3c\", \"\\u8ad6\\u8a9e\", \"\\u8af8\\u76f8\", \"\\u8b1b\\u6f14\", \"\\u8b5c\", \"\\u8b70\\u8ad6\", \"\\u8b70\\u8ad6\", \"\\u8b70\\u8ad6\", \"\\u8c4a\\u304b\", \"\\u8c61\\u5fb4\", \"\\u8c61\\u5fb4\", \"\\u8cc7\\u6599\", \"\\u8cc7\\u6599\", \"\\u8cc7\\u6599\", \"\\u8cc7\\u6599\", \"\\u8cc7\\u672c\", \"\\u8d85\", \"\\u8d85\\u8d8a\", \"\\u8d85\\u8d8a\", \"\\u8eab\\u4f53\", \"\\u8eab\\u4f53\", \"\\u8eab\\u5206\", \"\\u8eaf\", \"\\u8eaf\", \"\\u8f38\\u51fa\", \"\\u8fb2\", \"\\u8fd1\\u4ee3\", \"\\u8fd1\\u4ee3\", \"\\u8fd1\\u4ee3\", \"\\u9020\", \"\\u904e\\u53bb\", \"\\u904e\\u53bb\", \"\\u904e\\u53bb\", \"\\u9053\\u5143\", \"\\u9053\\u5fb3\", \"\\u9053\\u6559\", \"\\u907a\\u65cf\", \"\\u907a\\u8de1\", \"\\u907a\\u8de1\", \"\\u90e8\", \"\\u90e8\", \"\\u90e8\", \"\\u90e8\", \"\\u90e8\\u5206\", \"\\u90e8\\u5206\", \"\\u90e8\\u5206\", \"\\u90ed\", \"\\u91c8\\u8fe6\", \"\\u91cd\\u8981\", \"\\u91cd\\u8981\", \"\\u91cd\\u8981\", \"\\u91cd\\u8981\", \"\\u91cd\\u8981\", \"\\u91cd\\u8981\", \"\\u9451\\u8cde\", \"\\u958b\\u50ac\", \"\\u95a2\\u4fc2\", \"\\u95a2\\u4fc2\", \"\\u95a2\\u4fc2\", \"\\u95a2\\u4fc2\", \"\\u95a2\\u4fc2\", \"\\u95a2\\u4fc2\", \"\\u95a2\\u4fc2\", \"\\u95a2\\u4fc2\", \"\\u95a2\\u9023\", \"\\u95a2\\u9023\", \"\\u95a2\\u9023\", \"\\u95a2\\u9023\", \"\\u95a2\\u9023\", \"\\u95a2\\u9023\", \"\\u95a2\\u9023\", \"\\u963f\\u5f25\\u9640\", \"\\u9673\", \"\\u967d\\u660e\\u5b66\", \"\\u968b\", \"\\u969c\\u5bb3\", \"\\u969c\\u5bb3\", \"\\u96d1\\u8a8c\", \"\\u970a\", \"\\u9752\\u78c1\", \"\\u97f3\", \"\\u97f3\\u697d\", \"\\u97f3\\u697d\", \"\\u97f3\\u697d\", \"\\u97f3\\u697d\", \"\\u98a8\\u4fd7\", \"\\u9928\", \"\\u9ad8\\u9e97\", \"\\u9b42\", \"\\u9db4\\u898b\", \"\\u9ec4\"], \"Freq\": [0.23941203083401535, 0.13680687476229447, 0.13680687476229447, 0.4788240616680307, 0.8549591026864434, 0.07373994713996754, 0.30970777798786364, 0.30970777798786364, 0.2654638097038831, 0.029495978855987013, 0.12105067481461534, 0.26072453036994075, 0.6145649644434318, 0.9060303346919523, 0.9419932600999663, 0.11263181520144876, 0.7133348296091755, 0.10011716906795445, 0.06257323066747153, 0.8588869377348849, 0.06871095501879079, 0.034355477509395396, 0.4406070167503543, 0.520717383432237, 0.8560118631947549, 0.9359682931420961, 0.8928440742125676, 0.8670408697285045, 0.960085139756953, 0.13870633872533822, 0.13870633872533822, 0.20175467450958287, 0.45394801764656145, 0.07565800294109358, 0.9033559487583667, 0.8619056688397707, 0.970397853810504, 0.8911378832954476, 0.8293772474584095, 0.14744484399260613, 0.04749182037505678, 0.9498364075011356, 0.8451646547649022, 0.9875527600544041, 0.9278965761354805, 0.05475787427187216, 0.0328547245631233, 0.9089807129130779, 0.970983830857604, 0.9391124873945135, 0.9531358955976306, 0.838979535558319, 0.9514132709517162, 0.7730813041537247, 0.9677487793840629, 0.9067147285679437, 0.9225170350925382, 0.9781338673515554, 0.8994736202704159, 0.9228231183121535, 0.975353075187739, 0.8988898746409083, 0.830859321573638, 0.9771859899833344, 0.12032475798965644, 0.08021650532643763, 0.7219485479379387, 0.08021650532643763, 0.19668247930573735, 0.737559297396515, 0.41811461304660374, 0.06968576884110061, 0.3832717286260534, 0.11614294806850103, 0.949866750759801, 0.9435642694101195, 0.8230397103656214, 0.9615443143188976, 0.9498116211564391, 0.2574641641515423, 0.6436604103788557, 0.8771378598710224, 0.06552111985251426, 0.3348857236906284, 0.5896900786726282, 0.9800379190453982, 0.9594090309423494, 0.8374605102987287, 0.8105076137586852, 0.8376572578556806, 0.7070283222947563, 0.8053724245247619, 0.38216959670619033, 0.5095594622749204, 0.06369493278436505, 0.9363666754731095, 0.1975742967800882, 0.6585809892669606, 0.9858906944199972, 0.20138976439548903, 0.7787070889958909, 0.17143672065681648, 0.7714652429556741, 0.8733819330393076, 0.9612932742548289, 0.8956147107741634, 0.9331270079170437, 0.8277087265066291, 0.07591093786445026, 0.6157220515672076, 0.18556007033532285, 0.11808368112247818, 0.9200689445828307, 0.2027606105576855, 0.1410508595183899, 0.23802332543728294, 0.17631357439798737, 0.03526271487959747, 0.1410508595183899, 0.05289407231939621, 0.9243438192517395, 0.43021226767221904, 0.15364723845436393, 0.3738749469056189, 0.040972596921163715, 0.07050199342806271, 0.07050199342806271, 0.18017176098282692, 0.44651262504439715, 0.23500664476020902, 0.24211744446272235, 0.11608370624925045, 0.3051343135694583, 0.298500958926644, 0.03648345053547871, 0.8390156814844348, 0.11767996342972815, 0.16294148782577744, 0.06940100407394224, 0.4164060244436535, 0.021122044718156336, 0.20820301222182674, 0.8561632993570745, 0.8893938247984833, 0.21229516759810232, 0.2430625831920302, 0.1969114598011384, 0.11076269613814035, 0.2215253922762807, 0.015383707796963937, 0.9806211919726303, 0.036561100800447645, 0.831765043210184, 0.11882357760145484, 0.3644531793752555, 0.6247768789290095, 0.1340245763989689, 0.2886683183977792, 0.17526290759865165, 0.11340541079912754, 0.1340245763989689, 0.15464374199881029, 0.7450294441050136, 0.21286555545857533, 0.9954001135606626, 0.1274783935616013, 0.6073970516758649, 0.11997966452856591, 0.142475851627672, 0.8045086061513348, 0.15967366602898378, 0.3421578557763938, 0.4562104743685251, 0.9523754097482441, 0.9149255140977327, 0.04355845645850513, 0.8602795150554764, 0.09074678428855236, 0.980950358908473, 0.9122601419851908, 0.14160102384341955, 0.5380838906049943, 0.08496061430605173, 0.1529291057508931, 0.07929657335231495, 0.9427652547090453, 0.03959293954183079, 0.9304340792330236, 0.026395293027887196, 0.7075421141359564, 0.12305080245842719, 0.12305080245842719, 0.7205455090712085, 0.15634051689530823, 0.5393747832888134, 0.14852349105054283, 0.05471918091335788, 0.09380431013718495, 0.9665747228636947, 0.14145823445858072, 0.569283138674776, 0.2622152638744423, 0.027601606723625504, 0.5401163536385865, 0.29235655839152846, 0.03964156723952928, 0.12387989762352901, 0.291067620510647, 0.6549021461489557, 0.24606130164986034, 0.28948388429395333, 0.05789677685879067, 0.23158710743516267, 0.15921613636167434, 0.9706867564208457, 0.9066246679038722, 0.28296490868988616, 0.4501714456430007, 0.25724082608171467, 0.8570121962325603, 0.9510787750793716, 0.9071006946371836, 0.9967834115790629, 0.9149561329646692, 0.03287925033985175, 0.04109906292481469, 0.8877397591759973, 0.024659437754888814, 0.8644299372794984, 0.8801557519136111, 0.800781632457844, 0.18130904885837976, 0.412100900266305, 0.5422380266661908, 0.8813888220401855, 0.8592638097183929, 0.4297756443844765, 0.23357371977417202, 0.06540064153676817, 0.1027724367006357, 0.12145833428256946, 0.0467147439548344, 0.9229433173842194, 0.06651843728895275, 0.3214172258134705, 0.3826395545398458, 0.1300974485435476, 0.16070861290673524, 0.9075325162359614, 0.280679413408665, 0.09493568394704846, 0.34672162832835085, 0.07016985335216624, 0.06604221491968588, 0.08255276864960735, 0.057786938054725144, 0.22910148754547605, 0.2781946634480781, 0.04909317590260201, 0.31910564336691305, 0.12273293975650502, 0.9186139943350843, 0.8757775235700053, 0.937962007804289, 0.9859290160384923, 0.12205388043289578, 0.11266512039959611, 0.26288528093239094, 0.5069930417981825, 0.21834856410899103, 0.7423851179705695, 0.8759320642683246, 0.03457626569480229, 0.080677953287872, 0.8301989628954215, 0.05745897049334335, 0.8044255869068069, 0.08618845574001502, 0.04309422787000751, 0.3539575563841975, 0.10891001734898385, 0.2722750433724596, 0.0680687608431149, 0.09075834779081987, 0.04084125650586894, 0.04084125650586894, 0.024958545642475464, 0.8136766095923419, 0.94460609997347, 0.053594672338920284, 0.13162105732683488, 0.23033685032196105, 0.5484210721951454, 0.07677895010732035, 0.04234498127172524, 0.03528748439310437, 0.6492897128331203, 0.21878240323724707, 0.04940247815034611, 0.8690124120891383, 0.8224583261105689, 0.10570365300888143, 0.8720551373232719, 0.18960322702595542, 0.7821133114820661, 0.9514317930477609, 0.95996697780392, 0.10173722028657307, 0.5086861014328654, 0.31974554947208683, 0.05813555444947033, 0.9089330018608244, 0.9538801102375315, 0.03215326214283814, 0.9213907277142463, 0.955751402165533, 0.7761010112080665, 0.707318739487533, 0.035813607062659895, 0.09401071853948223, 0.16116123178196953, 0.03681942249817011, 0.6332940669685259, 0.03681942249817011, 0.17673322799121652, 0.11045826749451032, 0.9582432014932912, 0.9102993936652375, 0.3563201925994026, 0.4831460238635968, 0.10870785536930927, 0.054353927684654635, 0.8225190041976964, 0.9144705929077502, 0.9571413587668736, 0.9063067668181208, 0.5303360298748919, 0.13956211312497158, 0.3070366488749374, 0.8986624198977414, 0.9134164308465048, 0.9985155548903726, 0.8328982538835618, 0.15019476709375704, 0.7874994088631088, 0.8252967883178329, 0.9455469176457233, 0.11947888855423433, 0.7766127756025232, 0.9908595734458281, 0.9701224794419453, 0.06156932655701074, 0.034205181420561524, 0.786719172672915, 0.11629761682990918, 0.9736036730066233, 0.9736699770662443, 0.9135900159815104, 0.08116685038170068, 0.04058342519085034, 0.8657797374048073, 0.7218229043341904, 0.9567983320736145, 0.9143046229891897, 0.08356547629471088, 0.9090559839730162, 0.07912822096898384, 0.6478623091835551, 0.07418270715842235, 0.19782055242245958, 0.8104546805600635, 0.3923652365437056, 0.30408305832137184, 0.04414108911116688, 0.25994196921020496, 0.9044714595889944, 0.843527526627893, 0.046862640368216274, 0.02082784016365168, 0.08331136065460672, 0.9596839362909504, 0.7737843214470583, 0.5448588603414899, 0.32196205383815313, 0.09906524733481635, 0.8246095462885226, 0.036910584702325694, 0.9473716740263595, 0.7896465827381461, 0.7809370684695963, 0.8273752266227946, 0.9786958025700779, 0.8614870447828753, 0.54128313145058, 0.034642120412837124, 0.09093556608369745, 0.1515592768061624, 0.030311855361232484, 0.14722901175455777, 0.9363379594333947, 0.7053977373245122, 0.1697481186075029, 0.05281052578900091, 0.041493984548500715, 0.03017744330800052, 0.9544767390777729, 0.04149898865555534, 0.8987503610757042, 0.010542636198518519, 0.008434108958814815, 0.967814003024, 0.010542636198518519, 0.9478703559140811, 0.6167797359445863, 0.04253653351341975, 0.24812977882828188, 0.06380480027012962, 0.0283576890089465, 0.7101248517650894, 0.18758014952285382, 0.053594328435101084, 0.04019574632632582, 0.2396219334472897, 0.13070287278943074, 0.13070287278943074, 0.5010276790261512, 0.2151237233924781, 0.717079077974927, 0.9706995593680313, 0.878749932201937, 0.28558392849467523, 0.16064095977825482, 0.26773493296375805, 0.14279196424733762, 0.10709397318550322, 0.029748325884862006, 0.942458542695091, 0.17800656183506353, 0.6764249349732413, 0.1424052494680508, 0.9790922465139462, 0.32501928374858075, 0.06657021474368521, 0.3406828636882714, 0.184047064291365, 0.0391589498492266, 0.04307484483414926, 0.21401198632445953, 0.6955389555544934, 0.8638027006065578, 0.9170547489551183, 0.9038902791541512, 0.8925189771732868, 0.043282769951987723, 0.1406690023439601, 0.16231038731995395, 0.6492415492798158, 0.9062410992509529, 0.8024207180736687, 0.09884582593763788, 0.781352719316566, 0.03294860864587929, 0.05648332910722164, 0.02824166455361082, 0.022838489655683972, 0.7993471379489391, 0.09135395862273589, 0.0799347137948939, 0.1390146283138877, 0.7414113510074011, 0.11584552359490642, 0.861549163769986, 0.9397670027390885, 0.8441870226062099, 0.10735900047517846, 0.3972283017581603, 0.31134110137801757, 0.10735900047517846, 0.06441540028510707, 0.31370705560296286, 0.5185769694661222, 0.13444588097269836, 0.025608739232894924, 0.9655930721175306, 0.782115434711648, 0.8667019739228462, 0.2842669726281275, 0.1218287025549118, 0.588838729015407, 0.12865922964983323, 0.050544697362434485, 0.4365223863119342, 0.17001398203727963, 0.1883938719872558, 0.027569834924964263, 0.31291652016209126, 0.11299763228075518, 0.564988161403776, 0.14963907577025803, 0.08313281987236558, 0.7481953788512903, 0.2189800756968596, 0.03551028254543669, 0.2308168365453385, 0.27816387993925407, 0.14204113018174677, 0.04142866296967614, 0.053265423818155036, 0.30815529922060614, 0.4402218560294373, 0.17608874241177494, 0.9700264751038157, 0.9609552706202109, 0.9745330508512352, 0.8488082423494998, 0.18473576894773674, 0.5051957763060556, 0.08482764900661381, 0.16777023914641398, 0.05466670713759557, 0.11135114855387596, 0.8685389587202325, 0.9546085009057604, 0.03349503511950037, 0.6794801137525689, 0.08829402608084229, 0.01919435349583528, 0.04990531908917173, 0.09597176747917639, 0.01919435349583528, 0.04222757769083762, 0.9704333833734701, 0.9700077959297231, 0.9585484100162057, 0.8038633404414418, 0.8495424257210862, 0.8479887663671353, 0.3058249002153633, 0.34571510459128024, 0.26593469583944634, 0.07313204135584775, 0.7991748942322364, 0.8500483782016397, 0.7540153969204992, 0.15466982500933318, 0.08377948854672214, 0.8626244184018048, 0.08847429932326203, 0.9432441603071111, 0.04287473455941414, 0.10652379592434229, 0.11835977324926922, 0.6628147301959076, 0.10652379592434229, 0.9257508010253097, 0.18251313112587506, 0.7592546254836402, 0.05110367671524501, 0.05965083425356266, 0.11930166850712531, 0.8052862624230959, 0.9484023984057773, 0.9585798084259399, 0.7709009865677001, 0.8143752293074727, 0.1357292048845788, 0.2893110517971823, 0.39780269622112563, 0.18081940737323893, 0.10849164442394336, 0.8983922627681121, 0.026022835367325286, 0.11276561992507624, 0.6982794156898952, 0.02168569613943774, 0.14312559452028908, 0.9350770689351439, 0.9561974930017012, 0.060399601871969945, 0.31332293471084405, 0.060399601871969945, 0.4605469642737708, 0.037749751169981215, 0.011324925350994363, 0.04907467652097558, 0.29111884530450194, 0.043667826795675296, 0.33478667210017726, 0.16011536491747608, 0.10674357661165072, 0.03396386528552523, 0.029111884530450195, 0.8800082070499912, 0.06241192957801356, 0.0561707366202122, 0.008201402853884784, 0.30891950749632685, 0.5084869769408566, 0.13122244566215654, 0.04100701426942392, 0.2705525579742272, 0.6914120926008029, 0.9607309735598515, 0.8794046695476665, 0.11046934849202013, 0.08497642191693856, 0.3653986142428358, 0.07647877972524471, 0.32715922438021344, 0.038239389862622354, 0.5066991096692255, 0.09852482688012719, 0.3800243322519191, 0.8466201792738158, 0.30820350348509784, 0.6604360788966382, 0.8583234451567943, 0.958323102986131, 0.9949972942354726, 0.8935354464629216, 0.08935354464629215, 0.20334969258170527, 0.348599472997209, 0.043574934124651125, 0.15977475845705413, 0.07262489020775188, 0.15977475845705413, 0.8902991164369964, 0.5516579671029982, 0.39404140507357016, 0.4957740578964326, 0.4957740578964326, 0.892343881219534, 0.20058588573902905, 0.6686196191300968, 0.8686028301917382, 0.9063097845724037, 0.1592391815900198, 0.7643480716320951, 0.07431161807534258, 0.8557928690661688, 0.7799346226525383, 0.8605874002787802, 0.9745415291010996, 0.9618700593672858, 0.9377901214229314, 0.9149929152316643, 0.929981208378189, 0.9033174765817564, 0.09344663550845755, 0.5361851435036064, 0.149633063303332, 0.18704132912916502, 0.11222479747749901, 0.07497653897137381, 0.6560447159995207, 0.24367375165696487, 0.9273410073746623, 0.45084960696328935, 0.5009440077369882, 0.9537106186584378, 0.3274003774323181, 0.5893206793781726, 0.23562281750303582, 0.07199586090370538, 0.5236062611178574, 0.12762902614747773, 0.032725391319866085, 0.1723227060138229, 0.796992515313931, 0.9558378788739266, 0.09454123102040551, 0.18908246204081103, 0.3072590008163179, 0.11817653877550688, 0.2599883853061151, 0.8506558745481952, 0.1883698194447613, 0.07214163297884475, 0.41281045537894495, 0.21642489893653424, 0.02404721099294825, 0.0480944219858965, 0.040078684988247085, 0.9721773783617891, 0.8859985668330354, 0.061714691176362385, 0.8331483308808922, 0.09257203676454358, 0.08181615557558515, 0.8454336076143799, 0.05454410371705677, 0.19345111498722464, 0.7093207549531569, 0.9246558088663748, 0.25262420307738254, 0.7017338974371737, 0.8341000739425585, 0.05534767801987322, 0.47353013417002643, 0.42433219815236134, 0.04919793601766508, 0.37743416027624255, 0.5976040871040507, 0.9293373276067014, 0.8928530267826855, 0.09469653314361816, 0.8359684448477921, 0.9302592491709774, 0.5299585662153361, 0.08832642770255601, 0.35330571081022405, 0.8823182428601207, 0.918450408817682, 0.10008771884593035, 0.30026315653779106, 0.5504824536526169, 0.275504248598868, 0.17826745497573815, 0.08103066135260825, 0.2349889179225639, 0.04861839681156495, 0.10533985975839072, 0.0648245290820866, 0.8165597888841072, 0.34585030478309553, 0.5764171746384925, 0.8895343696338633, 0.1348778185897904, 0.1348778185897904, 0.6743890929489519, 0.5452424416936252, 0.11343970263424417, 0.34031910790273256, 0.8229655060191219, 0.07481504600173836, 0.09351880750217294, 0.9561308347596745, 0.5987871375730449, 0.2708798955687584, 0.09504557739254682, 0.03326595208739139, 0.8629175817809325, 0.13535962067151883, 0.9881052231979888, 0.8284823361703408, 0.9575803946248306, 0.2896281003567258, 0.6814778831922961, 0.06400763875007208, 0.9174428220843664, 0.9562046228323193, 0.8908815928571732, 0.36046167255812733, 0.22633639904812647, 0.10059395513250065, 0.1089767847268757, 0.05867980716062538, 0.050296977566250324, 0.08382829594375055, 0.9310984857528265, 0.9031671667281508, 0.8655734869188445, 0.9451289441115875, 0.22690241316141752, 0.2552652148065947, 0.05672560329035438, 0.45380482632283503, 0.9112943533449845, 0.8476664091432076, 0.8331945137096239, 0.9075029048590668, 0.8061822967648912, 0.842255970962761, 0.3515720271696743, 0.268849197247398, 0.10340353740284537, 0.2481684897668289, 0.9823385584960842, 0.9724727543082782, 0.23903700996192834, 0.1699818737507046, 0.1487341395318665, 0.10092673753948085, 0.3187160132825711, 0.026559667773547593, 0.15060011738212112, 0.7530005869106057, 0.39169443536947657, 0.5212992117784946, 0.08352307813025604, 0.036767642462449415, 0.9559587040236849, 0.939963399936228, 0.8589697957741727, 0.9144825513657132, 0.91006285042134, 0.9538376533254839, 0.9431273991536915, 0.6872441984863469, 0.22714003170311467, 0.08153744727804116, 0.8472401085987961, 0.04117457530974457, 0.24704745185846744, 0.09607400905607066, 0.054899433746326096, 0.5352694790266794, 0.9432367542244169, 0.10635078193632173, 0.7311616258122119, 0.1462323251624424, 0.8199921976870242, 0.855506296077708, 0.17251462316207178, 0.776315804229323, 0.8951834780706911, 0.9489072377277527, 0.7166731352749829, 0.8742251260987643, 0.7764651662320922, 0.20705737766189122, 0.9713955670012367, 0.9583281147255033, 0.9435361531689358, 0.7790406470140637, 0.21072410943823036, 0.7932026304600929, 0.1399769347870752, 0.9616224532520831, 0.882787363785969, 0.9524954497640111, 0.222279703797424, 0.2745808105732885, 0.48378523767674636, 0.4400969414305189, 0.2921651964118571, 0.14793174501866183, 0.11464710238946291, 0.8894051436895782, 0.09006634366476741, 0.9140839800117199, 0.9006326331724602, 0.8655017356017785, 0.23937829267892466, 0.33690278228885695, 0.0709269015344962, 0.34576864498066895, 0.8326132615388105, 0.2955440442810009, 0.11194850162159126, 0.17463966252968235, 0.16568378239995504, 0.11194850162159126, 0.04925734071350015, 0.0179117602594546, 0.0447794006486365, 0.0268676403891819, 0.27285270231018327, 0.04197733881695127, 0.3241583386420126, 0.09328297514878062, 0.13292823958701236, 0.055969785089268365, 0.05830185946798788, 0.020988669408475637, 0.19271172039127893, 0.6524668247533301, 0.09910888477265774, 0.052307466963347135, 0.8758254096825945, 0.4029783002147784, 0.5579699541435392, 0.9425470431593005, 0.8769672390423927, 0.9188347794844052, 0.07067959842187732, 0.9395613554691923, 0.053182718234105225, 0.8472540378949507, 0.16160827027948876, 0.2056832530829857, 0.11753328747599183, 0.16160827027948876, 0.08814996560699387, 0.08814996560699387, 0.1469166093449898, 0.894705396106866, 0.11364501754501956, 0.8821018028494375, 0.3461746767996911, 0.23078311786646072, 0.423102382755178, 0.9596464542686399, 0.9390138623148218, 0.9822255270296242, 0.7897811980846295, 0.22847770242361873, 0.06769709701440554, 0.33848548507202775, 0.3554097593256291, 0.8776460840555441, 0.7866184103247376, 0.9734610987961176, 0.22913305101665732, 0.10575371585384184, 0.6168966758140774, 0.0440640482724341, 0.3035035883460875, 0.030350358834608748, 0.097121148270748, 0.20031236830841775, 0.1821021530076525, 0.09105107650382625, 0.09105107650382625, 0.2806455373692293, 0.6908197842934876, 0.2710425374870409, 0.609845709345842, 0.24618588230816146, 0.1136242533729976, 0.0568121266864988, 0.568121266864988, 0.6587141411520169, 0.049714274803925804, 0.2609999427206105, 0.037285706102944356, 0.46072358827694837, 0.22368464068518507, 0.16025168287893857, 0.03672434399309009, 0.09014157161940294, 0.026708613813156427, 0.2676287630880711, 0.7055667390503693, 0.6778959571051154, 0.09350289063518832, 0.21817341148210612, 0.924464317259091, 0.07166390056272023, 0.10443148461921617, 0.8563381738775726, 0.21580930634781784, 0.7013802456304079, 0.11207204442069288, 0.8517475375972658, 0.30186102693980543, 0.2515508557831712, 0.1257754278915856, 0.30186102693980543, 0.14205635188140653, 0.7955155705358766, 0.8751602251525196, 0.7777195877170328, 0.9616440093342271, 0.6928713005048541, 0.10458434724601573, 0.09804782554313975, 0.09804782554313975, 0.33996126815249844, 0.08499031703812461, 0.16998063407624922, 0.4037040059310919, 0.870105390913609, 0.8773597383659084, 0.5642775443839652, 0.38608463563113404, 0.834869187336987, 0.9282937972753222, 0.3115719783593214, 0.38818803861161355, 0.22984818075687644, 0.01532321205045843, 0.04596963615137529, 0.7272963239148884, 0.013045673971567504, 0.0815354623222969, 0.08479688081518878, 0.022829929450243133, 0.0684897883507294, 0.48347328044426136, 0.16921564815549148, 0.1087814880999588, 0.24173664022213068, 0.8596371677897507, 0.1357321843878554, 0.2719447701564467, 0.3399309626955584, 0.3739240589651142, 0.9272742900648302, 0.8946225156382969, 0.9678357341302986, 0.7772100898957515, 0.7608793741473215, 0.13315389047578127, 0.10779124467087055, 0.8444528204394868, 0.561561886115338, 0.38877361346446476, 0.6639894112243806, 0.06036267374767096, 0.2471995210618906, 0.025869717320430412, 0.8174902216802379, 0.784893142477205, 0.49382562908144484, 0.46639087191025347, 0.9478104234812135, 0.044708038843453465, 0.8424383155368323, 0.2746440235257727, 0.6179490529329886, 0.8780112801935424, 0.881535295250516, 0.0761276992867016, 0.1522553985734032, 0.771658042769748, 0.9676206771857851, 0.10380149261102722, 0.23355335837481125, 0.6228089556661633, 0.9361747108600544, 0.9834770247728065, 0.9753972602716936, 0.8247751936994566, 0.13782262732364142, 0.8269357639418486, 0.16808975140432195, 0.3361795028086439, 0.10696620543911396, 0.38202216228254987, 0.31761592619978185, 0.5052980644087439, 0.17324505065442647, 0.7821185023483725, 0.9448144935736508, 0.3523005738510474, 0.0890875014335982, 0.20652102605061398, 0.23081761735068623, 0.0890875014335982, 0.03239545506676298, 0.9220018516245351, 0.9901696137786309, 0.337068113448302, 0.16075556179842096, 0.21520502627853128, 0.0829706125411205, 0.09593477075067057, 0.05963512776393035, 0.01814982149337011, 0.031113979702920184, 0.15700004152198557, 0.29605722115574423, 0.12560003321758847, 0.17942861888226924, 0.11214288680141828, 0.07625716302496442, 0.04934287019262404, 0.9077738010599032, 0.8929364233485657, 0.8771903264349137, 0.8953217095933966, 0.22115397421748326, 0.7371799140582775, 0.9711202924927002, 0.9233679721073397, 0.9172674693262778, 0.927995942610824, 0.20633953011943523, 0.03257992580833188, 0.6733184667055255, 0.07601982688610773, 0.7752393038120585, 0.9548851592004185, 0.870952081068416, 0.9522104087066505, 0.864812233100955, 0.8446232257097935], \"Topic\": [1, 2, 4, 10, 7, 1, 2, 3, 7, 9, 1, 2, 3, 6, 2, 1, 6, 7, 10, 6, 7, 10, 2, 9, 9, 9, 9, 9, 1, 1, 2, 3, 4, 10, 3, 6, 1, 7, 3, 8, 3, 4, 7, 1, 4, 1, 2, 3, 3, 3, 1, 7, 1, 7, 4, 7, 6, 2, 3, 4, 7, 8, 10, 4, 1, 3, 4, 8, 1, 6, 2, 4, 5, 7, 3, 1, 6, 2, 8, 6, 7, 9, 1, 2, 3, 1, 1, 8, 6, 9, 10, 9, 3, 6, 10, 3, 4, 7, 3, 2, 3, 1, 7, 7, 2, 6, 4, 10, 1, 2, 4, 5, 4, 1, 2, 3, 4, 5, 8, 10, 3, 1, 2, 3, 4, 1, 2, 3, 4, 5, 1, 2, 3, 4, 10, 8, 2, 3, 4, 5, 7, 8, 4, 8, 1, 2, 3, 4, 5, 7, 1, 1, 2, 4, 2, 5, 1, 2, 3, 4, 6, 10, 5, 10, 1, 1, 2, 3, 4, 6, 4, 5, 10, 5, 8, 3, 4, 8, 1, 5, 1, 2, 3, 4, 5, 2, 1, 2, 3, 4, 5, 7, 10, 1, 3, 4, 5, 6, 5, 2, 5, 6, 7, 2, 4, 5, 8, 2, 10, 1, 2, 3, 4, 7, 9, 3, 3, 5, 10, 7, 9, 3, 1, 9, 1, 3, 5, 9, 4, 7, 4, 9, 3, 8, 9, 6, 1, 2, 3, 4, 9, 10, 2, 4, 1, 2, 3, 6, 3, 1, 2, 3, 4, 5, 6, 8, 1, 2, 3, 4, 8, 6, 6, 3, 4, 2, 4, 5, 6, 1, 10, 2, 4, 8, 9, 1, 2, 3, 4, 1, 2, 3, 4, 5, 6, 7, 9, 8, 2, 3, 1, 3, 4, 8, 2, 4, 5, 6, 7, 7, 6, 1, 6, 4, 5, 2, 1, 2, 4, 5, 9, 4, 2, 3, 5, 2, 10, 2, 3, 4, 5, 1, 3, 4, 5, 6, 2, 4, 2, 3, 4, 8, 7, 9, 1, 4, 2, 3, 10, 4, 4, 1, 5, 7, 7, 10, 3, 3, 9, 2, 5, 3, 4, 5, 6, 2, 2, 4, 1, 2, 3, 10, 3, 2, 3, 6, 2, 3, 4, 5, 9, 1, 2, 3, 4, 6, 2, 4, 5, 8, 5, 9, 4, 8, 9, 7, 1, 2, 10, 10, 9, 9, 7, 1, 2, 3, 4, 7, 10, 4, 1, 2, 3, 4, 8, 2, 4, 8, 1, 2, 3, 4, 1, 2, 4, 5, 6, 7, 1, 3, 4, 9, 2, 3, 5, 6, 2, 6, 4, 5, 1, 2, 3, 4, 7, 9, 4, 4, 6, 7, 2, 1, 2, 3, 4, 5, 6, 3, 9, 8, 5, 5, 6, 1, 2, 4, 8, 3, 8, 1, 2, 4, 5, 7, 1, 2, 4, 5, 1, 2, 4, 10, 4, 8, 2, 3, 4, 7, 10, 1, 3, 4, 6, 1, 9, 5, 2, 4, 7, 1, 2, 3, 4, 5, 7, 1, 2, 3, 1, 2, 3, 1, 2, 3, 4, 5, 6, 7, 4, 7, 8, 1, 1, 1, 9, 1, 3, 4, 8, 10, 2, 3, 1, 8, 1, 3, 4, 5, 6, 9, 10, 2, 1, 1, 8, 6, 9, 1, 3, 4, 5, 8, 10, 1, 3, 4, 5, 6, 2, 8, 3, 4, 5, 6, 3, 1, 3, 6, 1, 3, 4, 3, 2, 10, 6, 9, 4, 7, 8, 10, 5, 1, 2, 3, 4, 6, 3, 7, 1, 2, 3, 4, 5, 7, 8, 1, 2, 3, 4, 5, 6, 8, 2, 3, 10, 1, 2, 3, 4, 5, 2, 6, 6, 8, 1, 2, 3, 4, 5, 6, 1, 3, 10, 7, 3, 10, 9, 2, 2, 3, 5, 2, 3, 4, 5, 6, 7, 7, 1, 10, 2, 4, 3, 4, 8, 8, 5, 2, 3, 4, 10, 7, 8, 4, 1, 3, 8, 2, 1, 3, 1, 3, 9, 10, 3, 5, 7, 10, 1, 7, 2, 3, 10, 1, 2, 3, 6, 8, 1, 6, 6, 1, 2, 3, 4, 9, 9, 1, 2, 3, 4, 5, 7, 8, 3, 8, 3, 5, 10, 2, 3, 7, 4, 8, 5, 4, 8, 8, 1, 2, 3, 5, 5, 10, 4, 2, 3, 10, 7, 4, 5, 8, 7, 7, 4, 6, 10, 1, 3, 4, 5, 6, 7, 9, 10, 4, 9, 4, 5, 7, 8, 1, 2, 3, 1, 3, 6, 1, 1, 3, 4, 5, 1, 3, 1, 8, 5, 2, 5, 2, 5, 5, 5, 1, 3, 4, 5, 6, 7, 10, 5, 6, 6, 2, 1, 2, 3, 4, 5, 6, 10, 5, 10, 9, 1, 3, 9, 10, 1, 5, 1, 2, 3, 4, 5, 9, 4, 9, 1, 3, 6, 1, 10, 10, 9, 5, 3, 9, 2, 1, 2, 5, 10, 1, 3, 6, 7, 10, 7, 1, 4, 8, 10, 7, 1, 4, 4, 8, 10, 4, 4, 8, 4, 5, 4, 5, 6, 4, 10, 2, 9, 5, 1, 3, 6, 2, 3, 5, 6, 2, 7, 8, 6, 6, 1, 2, 3, 4, 8, 1, 2, 3, 4, 5, 6, 7, 9, 10, 1, 2, 3, 4, 5, 6, 8, 9, 1, 2, 3, 4, 4, 5, 6, 3, 5, 1, 3, 1, 3, 9, 1, 2, 3, 4, 6, 9, 10, 7, 2, 6, 2, 3, 7, 2, 3, 1, 10, 1, 3, 5, 6, 5, 7, 3, 1, 2, 3, 5, 1, 2, 3, 4, 5, 6, 10, 3, 6, 8, 10, 1, 3, 8, 9, 1, 2, 3, 5, 1, 3, 4, 5, 8, 10, 2, 4, 1, 3, 4, 1, 8, 1, 3, 2, 6, 2, 3, 2, 3, 4, 7, 4, 8, 4, 10, 1, 1, 3, 4, 9, 1, 2, 4, 8, 8, 6, 4, 9, 10, 3, 1, 2, 3, 4, 6, 1, 2, 3, 4, 8, 9, 1, 2, 3, 6, 1, 4, 1, 4, 10, 8, 3, 2, 10, 1, 2, 3, 6, 3, 10, 2, 3, 4, 7, 6, 10, 1, 6, 1, 6, 10, 9, 10, 7, 9, 1, 2, 3, 5, 1, 3, 10, 8, 1, 8, 6, 2, 4, 2, 4, 6, 8, 1, 4, 9, 8, 9, 1, 2, 3, 4, 5, 9, 6, 2, 1, 2, 3, 4, 5, 6, 7, 8, 1, 2, 3, 4, 5, 7, 8, 4, 8, 10, 5, 1, 9, 2, 3, 7, 7, 2, 6, 7, 10, 9, 2, 5, 1, 8, 7]}};\n",
       "\n",
       "function LDAvis_load_lib(url, callback){\n",
       "  var s = document.createElement('script');\n",
       "  s.src = url;\n",
       "  s.async = true;\n",
       "  s.onreadystatechange = s.onload = callback;\n",
       "  s.onerror = function(){console.warn(\"failed to load library \" + url);};\n",
       "  document.getElementsByTagName(\"head\")[0].appendChild(s);\n",
       "}\n",
       "\n",
       "if(typeof(LDAvis) !== \"undefined\"){\n",
       "   // already loaded: just create the visualization\n",
       "   !function(LDAvis){\n",
       "       new LDAvis(\"#\" + \"ldavis_el11603140081825840848407605474\", ldavis_el11603140081825840848407605474_data);\n",
       "   }(LDAvis);\n",
       "}else if(typeof define === \"function\" && define.amd){\n",
       "   // require.js is available: use it to load d3/LDAvis\n",
       "   require.config({paths: {d3: \"https://cdnjs.cloudflare.com/ajax/libs/d3/3.5.5/d3.min\"}});\n",
       "   require([\"d3\"], function(d3){\n",
       "      window.d3 = d3;\n",
       "      LDAvis_load_lib(\"https://cdn.rawgit.com/bmabey/pyLDAvis/files/ldavis.v1.0.0.js\", function(){\n",
       "        new LDAvis(\"#\" + \"ldavis_el11603140081825840848407605474\", ldavis_el11603140081825840848407605474_data);\n",
       "      });\n",
       "    });\n",
       "}else{\n",
       "    // require.js not available: dynamically load d3 & LDAvis\n",
       "    LDAvis_load_lib(\"https://cdnjs.cloudflare.com/ajax/libs/d3/3.5.5/d3.min.js\", function(){\n",
       "         LDAvis_load_lib(\"https://cdn.rawgit.com/bmabey/pyLDAvis/files/ldavis.v1.0.0.js\", function(){\n",
       "                 new LDAvis(\"#\" + \"ldavis_el11603140081825840848407605474\", ldavis_el11603140081825840848407605474_data);\n",
       "            })\n",
       "         });\n",
       "}\n",
       "</script>"
      ],
      "text/plain": [
       "<IPython.core.display.HTML object>"
      ]
     },
     "execution_count": 128,
     "metadata": {},
     "output_type": "execute_result"
    }
   ],
   "source": [
    "doc_topic, topic_term, doc_lengths, term_frequency, vocab = dtm_model.dtm_vis(time=1, corpus=corpus)\n",
    "vis_wrapper = pyLDAvis.prepare(topic_term_dists=topic_term, doc_topic_dists=doc_topic, doc_lengths=doc_lengths, vocab=vocab, term_frequency=term_frequency)\n",
    "pyLDAvis.display(vis_wrapper)"
   ]
  },
  {
   "cell_type": "code",
   "execution_count": null,
   "metadata": {
    "collapsed": true
   },
   "outputs": [],
   "source": []
  }
 ],
 "metadata": {
  "anaconda-cloud": {},
  "kernelspec": {
   "display_name": "Python [Root]",
   "language": "python",
   "name": "Python [Root]"
  },
  "language_info": {
   "codemirror_mode": {
    "name": "ipython",
    "version": 3
   },
   "file_extension": ".py",
   "mimetype": "text/x-python",
   "name": "python",
   "nbconvert_exporter": "python",
   "pygments_lexer": "ipython3",
   "version": "3.5.2"
  }
 },
 "nbformat": 4,
 "nbformat_minor": 0
}
